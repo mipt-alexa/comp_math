{
 "cells": [
  {
   "cell_type": "code",
   "execution_count": 1,
   "id": "8fe471d0",
   "metadata": {},
   "outputs": [],
   "source": [
    "import numpy as np"
   ]
  },
  {
   "cell_type": "code",
   "execution_count": 18,
   "id": "89173a82",
   "metadata": {},
   "outputs": [],
   "source": [
    "n = 10\n",
    "A = np.full([n,n], 0)\n",
    "f = np.zeros(n)"
   ]
  },
  {
   "cell_type": "code",
   "execution_count": 23,
   "id": "1d1d9b76",
   "metadata": {},
   "outputs": [
    {
     "data": {
      "text/plain": [
       "array([[ 1,  0,  0,  0,  0,  0,  0,  0,  0,  0],\n",
       "       [ 1, -2,  1,  0,  0,  0,  0,  0,  0,  0],\n",
       "       [ 0,  1, -2,  1,  0,  0,  0,  0,  0,  0],\n",
       "       [ 0,  0,  1, -2,  1,  0,  0,  0,  0,  0],\n",
       "       [ 0,  0,  0,  1, -2,  1,  0,  0,  0,  0],\n",
       "       [ 0,  0,  0,  0,  1, -2,  1,  0,  0,  0],\n",
       "       [ 0,  0,  0,  0,  0,  1, -2,  1,  0,  0],\n",
       "       [ 0,  0,  0,  0,  0,  0,  1, -2,  1,  0],\n",
       "       [ 0,  0,  0,  0,  0,  0,  0,  1, -2,  1],\n",
       "       [ 1,  2,  2,  2,  2,  2,  2,  2,  2,  1]])"
      ]
     },
     "execution_count": 23,
     "metadata": {},
     "output_type": "execute_result"
    }
   ],
   "source": [
    "for i in range(n-1):\n",
    "    A[i+1][i+1] = -2\n",
    "    A[i][i+1] = 1\n",
    "    A[i+1][i] = 1\n",
    "    A[n-1][i] = 2\n",
    "    if i == 0:\n",
    "        f[i] =1\n",
    "    else:\n",
    "        f[i] = 2 / i /i\n",
    "\n",
    "A[0][0] = 1\n",
    "A[0][1] = 0\n",
    "A[n-1][n-1] = 1\n",
    "A[n-1][0] = 1\n",
    "f[n-1] = -3\n",
    "\n",
    "A"
   ]
  },
  {
   "cell_type": "code",
   "execution_count": 24,
   "id": "362138f6",
   "metadata": {},
   "outputs": [
    {
     "data": {
      "text/plain": [
       "array([ 1.        ,  2.        ,  0.5       ,  0.22222222,  0.125     ,\n",
       "        0.08      ,  0.05555556,  0.04081633,  0.03125   , -3.        ])"
      ]
     },
     "execution_count": 24,
     "metadata": {},
     "output_type": "execute_result"
    }
   ],
   "source": [
    "f"
   ]
  },
  {
   "cell_type": "code",
   "execution_count": 32,
   "id": "28b35ef2",
   "metadata": {},
   "outputs": [
    {
     "data": {
      "text/plain": [
       "array([ 1.796289  , -3.87938524, -3.55984756, -3.        , -2.4802047 ,\n",
       "       -0.42688003, -0.46791111, -1.65270364, -1.32935671,  1.        ])"
      ]
     },
     "execution_count": 32,
     "metadata": {},
     "output_type": "execute_result"
    }
   ],
   "source": [
    "np.linalg.eigvals(A)"
   ]
  },
  {
   "cell_type": "code",
   "execution_count": 35,
   "id": "94ab13d0",
   "metadata": {},
   "outputs": [
    {
     "data": {
      "text/plain": [
       "40.66852489935435"
      ]
     },
     "execution_count": 35,
     "metadata": {},
     "output_type": "execute_result"
    }
   ],
   "source": [
    "np.linalg.norm(A, 2) * np.linalg.norm(np.linalg.inv(A), 2)"
   ]
  },
  {
   "cell_type": "markdown",
   "id": "9a986d0c",
   "metadata": {},
   "source": [
    "Число обусловленности \\mu = 40.7"
   ]
  },
  {
   "cell_type": "code",
   "execution_count": 94,
   "id": "4b1830c4",
   "metadata": {},
   "outputs": [
    {
     "data": {
      "text/plain": [
       "40.66852489935435"
      ]
     },
     "execution_count": 94,
     "metadata": {},
     "output_type": "execute_result"
    }
   ],
   "source": [
    "norm_A = np.linalg.norm(np.dot(A, np.transpose(A)),2)\n",
    "B = np.linalg.inv(A)\n",
    "norm_B = np.linalg.norm(np.dot(np.transpose(B),B),2)\n",
    "np.sqrt(norm_A*norm_B)"
   ]
  },
  {
   "cell_type": "markdown",
   "id": "c2993930",
   "metadata": {},
   "source": [
    "# Метод Зейделя"
   ]
  },
  {
   "cell_type": "code",
   "execution_count": 106,
   "id": "3757fe49",
   "metadata": {},
   "outputs": [
    {
     "name": "stdout",
     "output_type": "stream",
     "text": [
      "[[ 1  0  0  0  0  0  0  0  0  0]\n",
      " [ 0 -2  0  0  0  0  0  0  0  0]\n",
      " [ 0  0 -2  0  0  0  0  0  0  0]\n",
      " [ 0  0  0 -2  0  0  0  0  0  0]\n",
      " [ 0  0  0  0 -2  0  0  0  0  0]\n",
      " [ 0  0  0  0  0 -2  0  0  0  0]\n",
      " [ 0  0  0  0  0  0 -2  0  0  0]\n",
      " [ 0  0  0  0  0  0  0 -2  0  0]\n",
      " [ 0  0  0  0  0  0  0  0 -2  0]\n",
      " [ 0  0  0  0  0  0  0  0  0  1]] \n",
      " [[0 0 0 0 0 0 0 0 0 0]\n",
      " [1 0 0 0 0 0 0 0 0 0]\n",
      " [0 1 0 0 0 0 0 0 0 0]\n",
      " [0 0 1 0 0 0 0 0 0 0]\n",
      " [0 0 0 1 0 0 0 0 0 0]\n",
      " [0 0 0 0 1 0 0 0 0 0]\n",
      " [0 0 0 0 0 1 0 0 0 0]\n",
      " [0 0 0 0 0 0 1 0 0 0]\n",
      " [0 0 0 0 0 0 0 1 0 0]\n",
      " [1 2 2 2 2 2 2 2 2 0]] \n",
      " [[0 0 0 0 0 0 0 0 0 0]\n",
      " [0 0 1 0 0 0 0 0 0 0]\n",
      " [0 0 0 1 0 0 0 0 0 0]\n",
      " [0 0 0 0 1 0 0 0 0 0]\n",
      " [0 0 0 0 0 1 0 0 0 0]\n",
      " [0 0 0 0 0 0 1 0 0 0]\n",
      " [0 0 0 0 0 0 0 1 0 0]\n",
      " [0 0 0 0 0 0 0 0 1 0]\n",
      " [0 0 0 0 0 0 0 0 0 1]\n",
      " [0 0 0 0 0 0 0 0 0 0]]\n"
     ]
    }
   ],
   "source": [
    "D = np.zeros_like(A)\n",
    "L = np.zeros_like(A)\n",
    "U = np.zeros_like(A)\n",
    "\n",
    "for i in range(n):\n",
    "    D[i][i] = A[i][i]\n",
    "for i in range(n):\n",
    "    for j in range(n):\n",
    "        if i<j:\n",
    "            U[i][j] = A[i][j]\n",
    "        if i>j:\n",
    "            L[i][j] = A[i][j]\n",
    "print(D, '\\n', L,'\\n', U)"
   ]
  },
  {
   "cell_type": "code",
   "execution_count": 100,
   "id": "167cdc45",
   "metadata": {},
   "outputs": [],
   "source": [
    "R = - np.dot(np.linalg.inv(D + L), U)\n",
    "F = np.dot(np.linalg.inv(D + L), f)"
   ]
  },
  {
   "cell_type": "code",
   "execution_count": 104,
   "id": "4ab6d84d",
   "metadata": {},
   "outputs": [
    {
     "data": {
      "text/plain": [
       "21.9717737179236"
      ]
     },
     "execution_count": 104,
     "metadata": {},
     "output_type": "execute_result"
    }
   ],
   "source": [
    "x = np.zeros(n)\n",
    "eps = 10e-16\n",
    "\n",
    "e0 = np.linalg.norm(f - np.dot(A,x))\n",
    "# eps1 = np.linalg.norm(sol1 - x, 2)\n",
    "q = np.linalg.norm(R,2)\n",
    "\n",
    "np.log( e0 / eps) / np.log(q)"
   ]
  },
  {
   "cell_type": "markdown",
   "id": "bdfb839a",
   "metadata": {},
   "source": [
    "Число итераций не сходится??"
   ]
  },
  {
   "cell_type": "code",
   "execution_count": 105,
   "id": "35ca190a",
   "metadata": {
    "scrolled": true
   },
   "outputs": [
    {
     "name": "stdout",
     "output_type": "stream",
     "text": [
      "step  0    0.6969548596135919\n",
      "step  10    0.06863199115952039\n",
      "step  20    0.003840286299320026\n",
      "step  30    0.0002159063598087948\n",
      "step  40    1.2182092743871381e-05\n",
      "step  50    6.904086620102315e-07\n",
      "step  60    3.934101237972477e-08\n",
      "step  70    2.255199095286678e-09\n",
      "step  80    1.3005930465347938e-10\n",
      "step  90    7.541688095402922e-12\n",
      "step  100    4.4005110977609855e-13\n",
      "step  110    2.6982221523041907e-14\n",
      "step  120    3.3466264437256366e-15\n",
      "step  130    2.8001940523528655e-15\n",
      "step  131    1.838230735157046e-15\n",
      "step  132    1.7975485573266372e-15\n",
      "step  133    1.7863710345568807e-15\n",
      "step  134    1.7811885205215376e-15\n",
      "step  135    1.7837816596687952e-15\n",
      "step  136    1.7837816596687952e-15\n",
      "step  137    1.7837816596687952e-15\n",
      "step  138    1.7837816596687952e-15\n",
      "step  139    1.7837816596687952e-15\n",
      "[ 1.         -1.30369772 -1.60739544 -1.41109316 -0.99256866 -0.44904415\n",
      "  0.17448035  0.85356041  1.57345679  2.32460317]\n"
     ]
    }
   ],
   "source": [
    "\n",
    "for i in range(140):\n",
    "    x = np.dot(R, x) + F\n",
    "    if i % 10 == 0 or i > 130 :\n",
    "        norm = np.linalg.norm(f - np.dot(A, x), 2)\n",
    "        print(\"step \", i, \"  \", norm)\n",
    "print(x)\n",
    "sol1 = x"
   ]
  },
  {
   "cell_type": "markdown",
   "id": "e794ad09",
   "metadata": {},
   "source": [
    "# Метод Гаусса"
   ]
  },
  {
   "cell_type": "code",
   "execution_count": 65,
   "id": "04520a0f",
   "metadata": {},
   "outputs": [],
   "source": [
    "def gauss(A):\n",
    "    n = len(A)\n",
    "\n",
    "    for i in range(0, n):\n",
    "        # Search for maximum in this column\n",
    "        maxEl = abs(A[i][i])\n",
    "        maxRow = i\n",
    "        for k in range(i + 1, n):\n",
    "            if abs(A[k][i]) > maxEl:\n",
    "                maxEl = abs(A[k][i])\n",
    "                maxRow = k\n",
    "\n",
    "        # Swap maximum row with current row (column by column)\n",
    "        for k in range(i, n + 1):\n",
    "            tmp = A[maxRow][k]\n",
    "            A[maxRow][k] = A[i][k]\n",
    "            A[i][k] = tmp\n",
    "\n",
    "        # Make all rows below this one 0 in current column\n",
    "        for k in range(i + 1, n):\n",
    "            c = -A[k][i] / A[i][i]\n",
    "            for j in range(i, n + 1):\n",
    "                if i == j:\n",
    "                    A[k][j] = 0\n",
    "                else:\n",
    "                    A[k][j] += c * A[i][j]\n",
    "\n",
    "    # Solve equation Ax=b for an upper triangular matrix A\n",
    "    x = [0 for i in range(n)]\n",
    "    for i in range(n - 1, -1, -1):\n",
    "        x[i] = A[i][n] / A[i][i]\n",
    "        for k in range(i - 1, -1, -1):\n",
    "            A[k][n] -= A[k][i] * x[i]\n",
    "    return x"
   ]
  },
  {
   "cell_type": "code",
   "execution_count": 80,
   "id": "4c3ddc06",
   "metadata": {},
   "outputs": [
    {
     "data": {
      "text/plain": [
       "array([[ 1.        ,  0.        ,  0.        ,  0.        ,  0.        ,\n",
       "         0.        ,  0.        ,  0.        ,  0.        ,  0.        ,\n",
       "         1.        ],\n",
       "       [ 1.        , -2.        ,  1.        ,  0.        ,  0.        ,\n",
       "         0.        ,  0.        ,  0.        ,  0.        ,  0.        ,\n",
       "         2.        ],\n",
       "       [ 0.        ,  1.        , -2.        ,  1.        ,  0.        ,\n",
       "         0.        ,  0.        ,  0.        ,  0.        ,  0.        ,\n",
       "         0.5       ],\n",
       "       [ 0.        ,  0.        ,  1.        , -2.        ,  1.        ,\n",
       "         0.        ,  0.        ,  0.        ,  0.        ,  0.        ,\n",
       "         0.22222222],\n",
       "       [ 0.        ,  0.        ,  0.        ,  1.        , -2.        ,\n",
       "         1.        ,  0.        ,  0.        ,  0.        ,  0.        ,\n",
       "         0.125     ],\n",
       "       [ 0.        ,  0.        ,  0.        ,  0.        ,  1.        ,\n",
       "        -2.        ,  1.        ,  0.        ,  0.        ,  0.        ,\n",
       "         0.08      ],\n",
       "       [ 0.        ,  0.        ,  0.        ,  0.        ,  0.        ,\n",
       "         1.        , -2.        ,  1.        ,  0.        ,  0.        ,\n",
       "         0.05555556],\n",
       "       [ 0.        ,  0.        ,  0.        ,  0.        ,  0.        ,\n",
       "         0.        ,  1.        , -2.        ,  1.        ,  0.        ,\n",
       "         0.04081633],\n",
       "       [ 0.        ,  0.        ,  0.        ,  0.        ,  0.        ,\n",
       "         0.        ,  0.        ,  1.        , -2.        ,  1.        ,\n",
       "         0.03125   ],\n",
       "       [ 1.        ,  2.        ,  2.        ,  2.        ,  2.        ,\n",
       "         2.        ,  2.        ,  2.        ,  2.        ,  1.        ,\n",
       "        -3.        ]])"
      ]
     },
     "execution_count": 80,
     "metadata": {},
     "output_type": "execute_result"
    }
   ],
   "source": [
    "B = np.zeros([n, n+1])\n",
    "for i in range(n):\n",
    "    for j in range(n):\n",
    "        B[i][j] = A[i][j]\n",
    "    B[i][n] = f[i]\n",
    "B"
   ]
  },
  {
   "cell_type": "code",
   "execution_count": 81,
   "id": "f765ecca",
   "metadata": {
    "scrolled": true
   },
   "outputs": [
    {
     "data": {
      "text/plain": [
       "[1.0,\n",
       " -1.3036977198286719,\n",
       " -1.607395439657344,\n",
       " -1.4110931594860165,\n",
       " -0.9925686570924664,\n",
       " -0.44904415469891656,\n",
       " 0.1744803476946333,\n",
       " 0.8535604056437388,\n",
       " 1.5734567901234566,\n",
       " 2.3246031746031743]"
      ]
     },
     "execution_count": 81,
     "metadata": {},
     "output_type": "execute_result"
    }
   ],
   "source": [
    "sol2 = gauss(B)\n",
    "sol2"
   ]
  },
  {
   "cell_type": "code",
   "execution_count": 82,
   "id": "5fee4e60",
   "metadata": {
    "scrolled": true
   },
   "outputs": [
    {
     "name": "stdout",
     "output_type": "stream",
     "text": [
      "[ 0.00000000e+00 -2.22044605e-16 -2.22044605e-16  0.00000000e+00\n",
      " -1.11022302e-16  0.00000000e+00  1.38777878e-16  1.11022302e-16\n",
      "  0.00000000e+00  0.00000000e+00]\n"
     ]
    }
   ],
   "source": [
    "print(sol1 - sol2)"
   ]
  }
 ],
 "metadata": {
  "kernelspec": {
   "display_name": "Python 3 (ipykernel)",
   "language": "python",
   "name": "python3"
  },
  "language_info": {
   "codemirror_mode": {
    "name": "ipython",
    "version": 3
   },
   "file_extension": ".py",
   "mimetype": "text/x-python",
   "name": "python",
   "nbconvert_exporter": "python",
   "pygments_lexer": "ipython3",
   "version": "3.7.4"
  }
 },
 "nbformat": 4,
 "nbformat_minor": 5
}
