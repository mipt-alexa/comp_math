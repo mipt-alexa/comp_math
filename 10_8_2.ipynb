{
  "nbformat": 4,
  "nbformat_minor": 0,
  "metadata": {
    "colab": {
      "name": "10.8.2.ipynb",
      "provenance": [],
      "authorship_tag": "ABX9TyOnbPg/+ariht/LGOjwjlRC",
      "include_colab_link": true
    },
    "kernelspec": {
      "name": "python3",
      "display_name": "Python 3"
    },
    "language_info": {
      "name": "python"
    }
  },
  "cells": [
    {
      "cell_type": "markdown",
      "metadata": {
        "id": "view-in-github",
        "colab_type": "text"
      },
      "source": [
        "<a href=\"https://colab.research.google.com/github/mipt-alexa/computational-math-course/blob/main/10_8_2.ipynb\" target=\"_parent\"><img src=\"https://colab.research.google.com/assets/colab-badge.svg\" alt=\"Open In Colab\"/></a>"
      ]
    },
    {
      "cell_type": "code",
      "source": [
        "import numpy as np\n",
        "import matplotlib.pyplot as plt"
      ],
      "metadata": {
        "id": "DiX4U-W2o6fv"
      },
      "execution_count": 1,
      "outputs": []
    },
    {
      "cell_type": "markdown",
      "source": [
        "Решить уравнение $\\frac{d^2 y}{dt^2}= 2t + 3y$ на отрезке [0,10]"
      ],
      "metadata": {
        "id": "qp-9rtORm0wy"
      }
    },
    {
      "cell_type": "markdown",
      "source": [
        "$y_1' = y_2$\n",
        "\n",
        "$y_2' = 2t+3y_1$"
      ],
      "metadata": {
        "id": "YfkXVmZeom5I"
      }
    },
    {
      "cell_type": "code",
      "source": [
        "def f1(y, t):\n",
        "    return np.array([y[1], 2* t + 5*y[0]])"
      ],
      "metadata": {
        "id": "ja-KteDmDcvM"
      },
      "execution_count": 2,
      "outputs": []
    },
    {
      "cell_type": "code",
      "source": [
        "def euler(f, y, t, tau):\n",
        "    return y + tau*f(y, t)"
      ],
      "metadata": {
        "id": "QpRWpabx1xsI"
      },
      "execution_count": 3,
      "outputs": []
    },
    {
      "cell_type": "code",
      "source": [
        "def midpoint(f, y, t, tau):\n",
        "    k1 = f(y, t)\n",
        "    k2 = f(y + tau/2*k1, t + tau/2)\n",
        "    return y + tau * k2"
      ],
      "metadata": {
        "id": "GIipxC7obe2-"
      },
      "execution_count": 4,
      "outputs": []
    },
    {
      "cell_type": "code",
      "source": [
        "def rk4(f, y, t, tau):\n",
        "    k1 = f(y, t)\n",
        "    k2 = f(y + tau/2*k1, t + tau/2)\n",
        "    k3 = f(y + tau/2*k2, t + tau/2)\n",
        "    k4 = f(y + tau *k3, t + tau)\n",
        "    return y + tau * (k1 + 2*k2 + 2*k3 + k4) / 6"
      ],
      "metadata": {
        "id": "dbsNPDGxcuyS"
      },
      "execution_count": 5,
      "outputs": []
    },
    {
      "cell_type": "code",
      "source": [
        "def calculate(method, f, y0, tau, T):\n",
        "    t = T[0]\n",
        "    y = y0\n",
        "    Y = np.array([])\n",
        "    V = np.array([])\n",
        "\n",
        "    t_space = np.arange(T[0], T[1], tau)\n",
        "\n",
        "    for t in t_space:\n",
        "        Y = np.append(Y, y[0])\n",
        "        V = np.append(V, y[1])\n",
        "        y = method(f, y, t, tau)\n",
        "\n",
        "    return t_space, Y, V\n"
      ],
      "metadata": {
        "id": "-yLYefQN4TV4"
      },
      "execution_count": 6,
      "outputs": []
    },
    {
      "cell_type": "code",
      "source": [
        "def plot(method, f, tau, T):\n",
        "    v0 = 5 * np.sqrt(3) * np.sinh(np.sinh(3)/2)\n",
        "\n",
        "    t, y, v = calculate(method, f, np.array([0, v0]), tau, T)\n",
        "\n",
        "    fig, (a1, a2) = plt.subplots(1,2)\n",
        "    a1.plot(t,y)\n",
        "    a2.plot(y, v)\n",
        "    plt.show()"
      ],
      "metadata": {
        "id": "E1urp2tLWyUD"
      },
      "execution_count": 7,
      "outputs": []
    },
    {
      "cell_type": "markdown",
      "source": [
        "Графики y(t) и y(y'). Точное решение $c_1 e^{\\sqrt{3}t} + c_2 e^{-\\sqrt{3}t} - \\frac{2t}{3}$"
      ],
      "metadata": {
        "id": "f2vxl1jv_BZ3"
      }
    },
    {
      "cell_type": "code",
      "source": [
        "plot(rk4, f1, 0.01, [0,1])"
      ],
      "metadata": {
        "colab": {
          "base_uri": "https://localhost:8080/",
          "height": 265
        },
        "id": "CAiLwUl6aumY",
        "outputId": "8e5df7fe-707d-4375-eef0-857e65f3bed7"
      },
      "execution_count": 8,
      "outputs": [
        {
          "output_type": "display_data",
          "data": {
            "text/plain": [
              "<Figure size 432x288 with 2 Axes>"
            ],
            "image/png": "[encoded data removed]"
          },
          "metadata": {
            "needs_background": "light"
          }
        }
      ]
    },
    {
      "cell_type": "markdown",
      "source": [
        ""
      ],
      "metadata": {
        "id": "4__6BUy0Wx9k"
      }
    }
  ]
}