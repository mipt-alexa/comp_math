{
  "nbformat": 4,
  "nbformat_minor": 0,
  "metadata": {
    "colab": {
      "name": "10 theme 7.4.ipynb",
      "provenance": [],
      "authorship_tag": "ABX9TyPvPlwf8nYK31t52RI/zPdL",
      "include_colab_link": true
    },
    "kernelspec": {
      "name": "python3",
      "display_name": "Python 3"
    },
    "language_info": {
      "name": "python"
    }
  },
  "cells": [
    {
      "cell_type": "markdown",
      "metadata": {
        "id": "view-in-github",
        "colab_type": "text"
      },
      "source": [
        "<a href=\"https://colab.research.google.com/github/mipt-alexa/computational-math-course/blob/main/10_theme_7_4.ipynb\" target=\"_parent\"><img src=\"https://colab.research.google.com/assets/colab-badge.svg\" alt=\"Open In Colab\"/></a>"
      ]
    },
    {
      "cell_type": "code",
      "execution_count": 87,
      "metadata": {
        "id": "nGlyffPU3pqC"
      },
      "outputs": [],
      "source": [
        "import numpy as np\n",
        "import matplotlib.pyplot as plt"
      ]
    },
    {
      "cell_type": "code",
      "source": [
        "c = 4\n"
      ],
      "metadata": {
        "id": "CJiSsvb6-J0O"
      },
      "execution_count": 88,
      "outputs": []
    },
    {
      "cell_type": "code",
      "source": [
        "def factorial(n):\n",
        "    res = 1\n",
        "    for i in range(1,n+1):\n",
        "        res *= i\n",
        "    return res"
      ],
      "metadata": {
        "id": "T_IdN2-bMihP"
      },
      "execution_count": 100,
      "outputs": []
    },
    {
      "cell_type": "code",
      "source": [
        "factorial(5)"
      ],
      "metadata": {
        "colab": {
          "base_uri": "https://localhost:8080/"
        },
        "id": "cH84-IwsM93P",
        "outputId": "cec09b27-f84f-4063-a88d-7ae3592e8cac"
      },
      "execution_count": 102,
      "outputs": [
        {
          "output_type": "execute_result",
          "data": {
            "text/plain": [
              "120"
            ]
          },
          "metadata": {},
          "execution_count": 102
        }
      ]
    },
    {
      "cell_type": "code",
      "source": [
        "def f1(x):\n",
        "    return 1 + x"
      ],
      "metadata": {
        "id": "jMEKBrqDAGoJ"
      },
      "execution_count": 89,
      "outputs": []
    },
    {
      "cell_type": "code",
      "source": [
        "def exp(n , x):\n",
        "    res = 1\n",
        "    for i in range(n):\n",
        "        res += np.power(x, i+1)/factorial(i+1)\n",
        "    return res"
      ],
      "metadata": {
        "id": "AOGvcBpEAbxs"
      },
      "execution_count": 103,
      "outputs": []
    },
    {
      "cell_type": "code",
      "source": [
        "def solve_ineq(n, c=4, num_points=200):\n",
        "\n",
        "    x = np.linspace(-c, c,  num_points)\n",
        "    y = np.linspace(-c, c, num_points)\n",
        "\n",
        "    X = np.array([])\n",
        "    Y = X\n",
        " \n",
        "    for x_i in x:\n",
        "        for y_i in y:\n",
        "            z = complex(x_i, y_i)\n",
        "            if abs(exp(n, z)) < 1:\n",
        "                X = np.append(X, x_i)\n",
        "                Y = np.append(Y, y_i)\n",
        "    \n",
        "    Limits = [[-c, c],[-c, c]]\n",
        "\n",
        "    plt.figure(figsize=(6, 6))\n",
        "    plt.scatter(X, Y)\n",
        "    plt.xlim(Limits[0])\n",
        "    plt.ylim(Limits[1])\n",
        "    plt.grid()"
      ],
      "metadata": {
        "id": "SDOk0eKm39iN"
      },
      "execution_count": 106,
      "outputs": []
    },
    {
      "cell_type": "code",
      "source": [
        "solve_ineq(3, 3, 300)"
      ],
      "metadata": {
        "colab": {
          "base_uri": "https://localhost:8080/",
          "height": 378
        },
        "id": "96Xm1ana-77N",
        "outputId": "839c471e-84ff-4185-cae6-68ebcd544b33"
      },
      "execution_count": 114,
      "outputs": [
        {
          "output_type": "display_data",
          "data": {
            "text/plain": [
              "<Figure size 432x432 with 1 Axes>"
            ],
            "image/png": "[encoded data removed]"
          },
          "metadata": {
            "needs_background": "light"
          }
        }
      ]
    },
    {
      "cell_type": "code",
      "source": [
        "solve_ineq(17, 10, 200)"
      ],
      "metadata": {
        "colab": {
          "base_uri": "https://localhost:8080/",
          "height": 378
        },
        "id": "2EnOT2lgDJA_",
        "outputId": "d5219658-fc0d-467a-9283-ac00a50ffa1f"
      },
      "execution_count": 119,
      "outputs": [
        {
          "output_type": "display_data",
          "data": {
            "text/plain": [
              "<Figure size 432x432 with 1 Axes>"
            ],
            "image/png": "[encoded data removed]"
          },
          "metadata": {
            "needs_background": "light"
          }
        }
      ]
    },
    {
      "cell_type": "code",
      "source": [
        "exp(60, complex(-1, 1))"
      ],
      "metadata": {
        "id": "3W7z1bw2DKAn",
        "colab": {
          "base_uri": "https://localhost:8080/"
        },
        "outputId": "a65d94ef-4ded-4ea5-bba7-38a6b2e3c27d"
      },
      "execution_count": 96,
      "outputs": [
        {
          "output_type": "execute_result",
          "data": {
            "text/plain": [
              "(-644245094+214748365j)"
            ]
          },
          "metadata": {},
          "execution_count": 96
        }
      ]
    },
    {
      "cell_type": "code",
      "source": [
        "abs()"
      ],
      "metadata": {
        "id": "hHDMuvz2KwAX"
      },
      "execution_count": null,
      "outputs": []
    }
  ]
}