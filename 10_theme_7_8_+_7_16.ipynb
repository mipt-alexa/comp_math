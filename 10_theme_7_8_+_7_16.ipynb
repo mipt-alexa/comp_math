{
  "nbformat": 4,
  "nbformat_minor": 0,
  "metadata": {
    "colab": {
      "name": "10 theme 7.8 + 7.16.ipynb",
      "provenance": [],
      "authorship_tag": "ABX9TyMOY07i5fab24eDFYrtm96/",
      "include_colab_link": true
    },
    "kernelspec": {
      "name": "python3",
      "display_name": "Python 3"
    },
    "language_info": {
      "name": "python"
    }
  },
  "cells": [
    {
      "cell_type": "markdown",
      "metadata": {
        "id": "view-in-github",
        "colab_type": "text"
      },
      "source": [
        "<a href=\"https://colab.research.google.com/github/mipt-alexa/computational-math-course/blob/main/10_theme_7_8_%2B_7_16.ipynb\" target=\"_parent\"><img src=\"https://colab.research.google.com/assets/colab-badge.svg\" alt=\"Open In Colab\"/></a>"
      ]
    },
    {
      "cell_type": "code",
      "execution_count": 1,
      "metadata": {
        "id": "nGlyffPU3pqC"
      },
      "outputs": [],
      "source": [
        "import numpy as np\n",
        "import matplotlib.pyplot as plt"
      ]
    },
    {
      "cell_type": "code",
      "source": [
        "c = 4\n"
      ],
      "metadata": {
        "id": "CJiSsvb6-J0O"
      },
      "execution_count": 2,
      "outputs": []
    },
    {
      "cell_type": "code",
      "source": [
        "def f_7_8(x, s):\n",
        "\n",
        "    return (1+x/2 + s*np.sqrt(1+2*x))/2/(1-x/4)"
      ],
      "metadata": {
        "id": "jMEKBrqDAGoJ"
      },
      "execution_count": 18,
      "outputs": []
    },
    {
      "cell_type": "code",
      "source": [
        "def solve_ineq(f, s=0, c=4, num_points=200):\n",
        "\n",
        "    x = np.linspace(-c, c,  num_points)\n",
        "    y = np.linspace(-c, c, num_points)\n",
        "\n",
        "    X = np.array([])\n",
        "    Y = X\n",
        " \n",
        "    # if s:\n",
        "    #     gamma = 0.5 + 1/2/np.sqrt(3)\n",
        "    # else: \n",
        "    #     gamma = 0.5 - 1/2/np.sqrt(3)\n",
        "\n",
        "    for x_i in x:\n",
        "        for y_i in y:\n",
        "            z = complex(x_i, y_i)\n",
        "            if abs(f(z, s)) < 1:\n",
        "                X = np.append(X, x_i)\n",
        "                Y = np.append(Y, y_i)\n",
        "    \n",
        "    Limits = [[-c, c],[-c, c]]\n",
        "\n",
        "    plt.figure(figsize=(6, 6))\n",
        "    plt.scatter(X, Y)\n",
        "    plt.xlim(Limits[0])\n",
        "    plt.ylim(Limits[1])\n",
        "    plt.grid()"
      ],
      "metadata": {
        "id": "SDOk0eKm39iN"
      },
      "execution_count": 19,
      "outputs": []
    },
    {
      "cell_type": "markdown",
      "source": [
        "####7.8"
      ],
      "metadata": {
        "id": "jKmBe1E7YeYB"
      }
    },
    {
      "cell_type": "markdown",
      "source": [
        "Тут гамма с минусом\n"
      ],
      "metadata": {
        "id": "KiMUUyTvLwLl"
      }
    },
    {
      "cell_type": "code",
      "source": [
        "solve_ineq(f_7_8, -1)"
      ],
      "metadata": {
        "colab": {
          "base_uri": "https://localhost:8080/",
          "height": 378
        },
        "id": "96Xm1ana-77N",
        "outputId": "96ab34b5-40a0-401b-b769-4b6f76a3374f"
      },
      "execution_count": 20,
      "outputs": [
        {
          "output_type": "display_data",
          "data": {
            "text/plain": [
              "<Figure size 432x432 with 1 Axes>"
            ],
            "image/png": "[encoded data removed]"
          },
          "metadata": {
            "needs_background": "light"
          }
        }
      ]
    },
    {
      "cell_type": "markdown",
      "source": [
        "Тут гамма с плюсом"
      ],
      "metadata": {
        "id": "G-IYrQouL2Dy"
      }
    },
    {
      "cell_type": "code",
      "source": [
        "solve_ineq(f_7_8, 1)"
      ],
      "metadata": {
        "id": "hHDMuvz2KwAX",
        "colab": {
          "base_uri": "https://localhost:8080/",
          "height": 378
        },
        "outputId": "470b17fb-e670-4d15-bd15-7cb20a7941a8"
      },
      "execution_count": 21,
      "outputs": [
        {
          "output_type": "display_data",
          "data": {
            "text/plain": [
              "<Figure size 432x432 with 1 Axes>"
            ],
            "image/png": "[encoded data removed]"
          },
          "metadata": {
            "needs_background": "light"
          }
        }
      ]
    },
    {
      "cell_type": "markdown",
      "source": [
        "###7.16"
      ],
      "metadata": {
        "id": "YxDxMNAvYlHP"
      }
    },
    {
      "cell_type": "code",
      "source": [
        "def f_7_19(z, s=0):\n",
        "    A = np.array([[1+z*(1/np.sqrt(2) + np.sqrt(2)), z*(1-np.sqrt(2))],\n",
        "                  [z*(1/np.sqrt(2) + np.sqrt(2)), 1+z*(1/np.sqrt(2) - np.sqrt(2))]])\n",
        "    return np.linalg.det(A)"
      ],
      "metadata": {
        "id": "MWhX64o-LqMk"
      },
      "execution_count": 24,
      "outputs": []
    },
    {
      "cell_type": "code",
      "source": [
        "solve_ineq(f_7_19, 0 , 8)"
      ],
      "metadata": {
        "colab": {
          "base_uri": "https://localhost:8080/",
          "height": 378
        },
        "id": "9DxAn0yXZlSU",
        "outputId": "6fca3a3b-ae9e-4c4d-ba4b-72b0e3c69248"
      },
      "execution_count": 48,
      "outputs": [
        {
          "output_type": "display_data",
          "data": {
            "text/plain": [
              "<Figure size 432x432 with 1 Axes>"
            ],
            "image/png": "[encoded data removed]"
          },
          "metadata": {
            "needs_background": "light"
          }
        }
      ]
    },
    {
      "cell_type": "code",
      "source": [
        "def f1_7_19(z):\n",
        "    A = np.array([[1+z*(1/np.sqrt(2) + np.sqrt(2)), z*(1-np.sqrt(2))],\n",
        "                  [z*(1/np.sqrt(2) + np.sqrt(2)), 1+z*(1/np.sqrt(2) - np.sqrt(2))]])\n",
        "    return np.linalg.det(A)"
      ],
      "metadata": {
        "id": "5KxcHonpa-LX"
      },
      "execution_count": 38,
      "outputs": []
    },
    {
      "cell_type": "code",
      "source": [
        "x0 = np.linspace(-4, 5, 500)\n",
        "y = []\n",
        "for i in x0:\n",
        "    y = np.append(y, abs(f1_7_19(i)))\n",
        "\n",
        "plt.plot(x0, y)"
      ],
      "metadata": {
        "colab": {
          "base_uri": "https://localhost:8080/",
          "height": 283
        },
        "id": "_6i_q7PmZ4vA",
        "outputId": "be40ca49-6f1e-47bf-b95d-4a190aee9703"
      },
      "execution_count": 49,
      "outputs": [
        {
          "output_type": "execute_result",
          "data": {
            "text/plain": [
              "[<matplotlib.lines.Line2D at 0x7f997abbefd0>]"
            ]
          },
          "metadata": {},
          "execution_count": 49
        },
        {
          "output_type": "display_data",
          "data": {
            "text/plain": [
              "<Figure size 432x288 with 1 Axes>"
            ],
            "image/png": "[encoded data removed]"
          },
          "metadata": {
            "needs_background": "light"
          }
        }
      ]
    },
    {
      "cell_type": "code",
      "source": [
        ""
      ],
      "metadata": {
        "id": "k2sJbPZkaWkA"
      },
      "execution_count": null,
      "outputs": []
    }
  ]
}