{
  "nbformat": 4,
  "nbformat_minor": 0,
  "metadata": {
    "colab": {
      "name": "10.8.2.ipynb",
      "provenance": [],
      "authorship_tag": "ABX9TyO8wueldiaMJ8wjVg+ntAfH",
      "include_colab_link": true
    },
    "kernelspec": {
      "name": "python3",
      "display_name": "Python 3"
    },
    "language_info": {
      "name": "python"
    }
  },
  "cells": [
    {
      "cell_type": "markdown",
      "metadata": {
        "id": "view-in-github",
        "colab_type": "text"
      },
      "source": [
        "<a href=\"https://colab.research.google.com/github/mipt-alexa/comp_math/blob/main/10.ipynb\" target=\"_parent\"><img src=\"https://colab.research.google.com/assets/colab-badge.svg\" alt=\"Open In Colab\"/></a>"
      ]
    },
    {
      "cell_type": "code",
      "source": [
        "import numpy as np\n",
        "import matplotlib.pyplot as plt"
      ],
      "metadata": {
        "id": "DiX4U-W2o6fv"
      },
      "execution_count": 1,
      "outputs": []
    },
    {
      "cell_type": "markdown",
      "source": [
        "Попробуем решить для начала простое $y'' + 5y=0$"
      ],
      "metadata": {
        "id": "YFJge8st09TX"
      }
    },
    {
      "cell_type": "markdown",
      "source": [
        "$y_1' = y_2$\n",
        "\n",
        "$y_2' = - 5y_1$"
      ],
      "metadata": {
        "id": "oo3hnKGw1XGb"
      }
    },
    {
      "cell_type": "code",
      "source": [
        "def f(y, t):\n",
        "    return np.array([y[1], -5*y[0]])"
      ],
      "metadata": {
        "id": "6-k-6TQo-rJ5"
      },
      "execution_count": 20,
      "outputs": []
    },
    {
      "cell_type": "markdown",
      "source": [
        "Решить уравнение $\\frac{d^2 y}{dt^2}= 2t + 3y$ на отрезке [0,10]"
      ],
      "metadata": {
        "id": "qp-9rtORm0wy"
      }
    },
    {
      "cell_type": "markdown",
      "source": [
        "$y_1' = y_2$\n",
        "\n",
        "$y_2' = 2t+3y_1$"
      ],
      "metadata": {
        "id": "YfkXVmZeom5I"
      }
    },
    {
      "cell_type": "code",
      "source": [
        "def f1(y, t):\n",
        "    return np.array([y[1], 2* t + 5*y[0]])"
      ],
      "metadata": {
        "id": "ja-KteDmDcvM"
      },
      "execution_count": 21,
      "outputs": []
    },
    {
      "cell_type": "code",
      "source": [
        "def euler(f, y, t, tau):\n",
        "    return y + tau*f(y, t)"
      ],
      "metadata": {
        "id": "QpRWpabx1xsI"
      },
      "execution_count": 22,
      "outputs": []
    },
    {
      "cell_type": "code",
      "source": [
        "def midpoint(f, y, t, tau):\n",
        "    k1 = f(y, t)\n",
        "    k2 = f(y + tau/2*k1, t + tau/2)\n",
        "    return y + tau * k2"
      ],
      "metadata": {
        "id": "GIipxC7obe2-"
      },
      "execution_count": 23,
      "outputs": []
    },
    {
      "cell_type": "code",
      "source": [
        "def rk4(f, y, t, tau):\n",
        "    k1 = f(y, t)\n",
        "    k2 = f(y + tau/2*k1, t + tau/2)\n",
        "    k3 = f(y + tau/2*k2, t + tau/2)\n",
        "    k4 = f(y + tau *k3, t + tau)\n",
        "    return y + tau * (k1 + 2*k2 + 2*k3 + k4) / 6"
      ],
      "metadata": {
        "id": "dbsNPDGxcuyS"
      },
      "execution_count": 24,
      "outputs": []
    },
    {
      "cell_type": "code",
      "source": [
        "def calculate(method, f, y0, tau, T):\n",
        "    t = T[0]\n",
        "    y = y0\n",
        "    Y = np.array([])\n",
        "    V = np.array([])\n",
        "\n",
        "    t_space = np.arange(T[0], T[1], tau)\n",
        "\n",
        "    for t in t_space:\n",
        "        Y = np.append(Y, y[0])\n",
        "        V = np.append(V, y[1])\n",
        "        y = method(f, y, t, tau)\n",
        "\n",
        "    return t_space, Y, V\n"
      ],
      "metadata": {
        "id": "-yLYefQN4TV4"
      },
      "execution_count": 53,
      "outputs": []
    },
    {
      "cell_type": "code",
      "source": [
        "def plot(method, f, tau, T):\n",
        "    v0 = 5 * np.sqrt(3) * np.sinh(np.sinh(3)/2)\n",
        "\n",
        "    t, y, v = calculate(method, f, np.array([0, v0]), tau, T)\n",
        "\n",
        "    fig, (a1, a2) = plt.subplots(1,2)\n",
        "    a1.plot(t,y)\n",
        "    a2.plot(y, v)\n",
        "    plt.show()"
      ],
      "metadata": {
        "id": "E1urp2tLWyUD"
      },
      "execution_count": 54,
      "outputs": []
    },
    {
      "cell_type": "code",
      "source": [
        "plot(rk4, f1, 0.01, [0,10])"
      ],
      "metadata": {
        "colab": {
          "base_uri": "https://localhost:8080/",
          "height": 289
        },
        "id": "CAiLwUl6aumY",
        "outputId": "e83f1665-d953-4e41-d600-4761edeaf371"
      },
      "execution_count": 58,
      "outputs": [
        {
          "output_type": "display_data",
          "data": {
            "image/png": "[encoded data removed]",
            "text/plain": [
              "<Figure size 432x288 with 2 Axes>"
            ]
          },
          "metadata": {
            "needs_background": "light"
          }
        }
      ]
    },
    {
      "cell_type": "markdown",
      "source": [
        ""
      ],
      "metadata": {
        "id": "4__6BUy0Wx9k"
      }
    }
  ]
}
