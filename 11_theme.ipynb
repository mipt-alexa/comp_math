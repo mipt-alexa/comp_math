{
  "nbformat": 4,
  "nbformat_minor": 0,
  "metadata": {
    "colab": {
      "name": "11 theme.ipynb",
      "provenance": [],
      "collapsed_sections": [],
      "authorship_tag": "ABX9TyM8d26GENHQjSkPUY/3OTq4",
      "include_colab_link": true
    },
    "kernelspec": {
      "name": "python3",
      "display_name": "Python 3"
    },
    "language_info": {
      "name": "python"
    }
  },
  "cells": [
    {
      "cell_type": "markdown",
      "metadata": {
        "id": "view-in-github",
        "colab_type": "text"
      },
      "source": [
        "<a href=\"https://colab.research.google.com/github/mipt-alexa/computational-math-course/blob/main/11_theme.ipynb\" target=\"_parent\"><img src=\"https://colab.research.google.com/assets/colab-badge.svg\" alt=\"Open In Colab\"/></a>"
      ]
    },
    {
      "cell_type": "code",
      "source": [
        "import numpy as np\n",
        "import matplotlib.pyplot as plt"
      ],
      "metadata": {
        "id": "aCtff9D6GRwR"
      },
      "execution_count": 16,
      "outputs": []
    },
    {
      "cell_type": "markdown",
      "source": [
        "##9.1\n"
      ],
      "metadata": {
        "id": "-3n3ZGYnOucc"
      }
    },
    {
      "cell_type": "markdown",
      "source": [
        "В первом случае краевая задача жёсткая, будем решать методом прогонки\n"
      ],
      "metadata": {
        "id": "bW4ksp1FEPe0"
      }
    },
    {
      "cell_type": "markdown",
      "source": [
        "\n",
        "\n",
        "\n",
        "$y'' - (10+t^2)y = t exp(-t)$"
      ],
      "metadata": {
        "id": "0gdJGLXmEGBj"
      }
    },
    {
      "cell_type": "markdown",
      "source": [
        "$\\frac{1}{h^2} (y_{n+1} - 2y_n + y_{n-1}) - (10 + t_n^2)y_n = t_n e^{-t_n}$"
      ],
      "metadata": {
        "id": "Ns_lH6p9Ey9Z"
      }
    },
    {
      "cell_type": "markdown",
      "source": [
        "$t \\in [0,10]$"
      ],
      "metadata": {
        "id": "Wh2_3kyLGMQN"
      }
    },
    {
      "cell_type": "markdown",
      "source": [
        "представим решение как $y = c_1 y_1 + c_2 y_2 + y_0$\n",
        "\n",
        "###1.\n",
        "краевые условия $y_0(0) =0, y_0'(10) =0 $ для неоднородного уравнения\n",
        "\n",
        "на правом краю $y_{n-1} = y_n + h^2/2 (t_n e^{-t_n} + (10+t_n^2)y_n)$\n"
      ],
      "metadata": {
        "id": "1NaeWB6mobQf"
      }
    },
    {
      "cell_type": "markdown",
      "source": [
        "###2.\n",
        "$y_1(0) = 1, y_1'(10) = 0$"
      ],
      "metadata": {
        "id": "wCHrvQW04-3Y"
      }
    },
    {
      "cell_type": "markdown",
      "source": [
        "###3.\n",
        "$y_1(0) = 0, y_1'(10) = 1$\n",
        "\n",
        "на правом краю $y_{n-1} = y_n + h + h^2/2 ((10+t_n^2)y_n)$"
      ],
      "metadata": {
        "id": "WVHedzrL4_xT"
      }
    },
    {
      "cell_type": "code",
      "execution_count": 17,
      "metadata": {
        "id": "qg1sskvREFdw"
      },
      "outputs": [],
      "source": [
        "def calc_y0(N = 200):\n",
        "    h = 10 / N\n",
        "\n",
        "    t = np.linspace(0, 10, N)\n",
        "    y = np.zeros(N)\n",
        "    A = np.zeros([N,N])\n",
        "    b = np.zeros(N)\n",
        "\n",
        "    for i in range(1,N):\n",
        "        A[i][i-1] = 1/h**2\n",
        "        A[i][i] = -(10 + t[i]**2) - 2/h**2\n",
        "        if i != N-1:\n",
        "            A[i][i+1] = 1/h**2\n",
        "        b[i] = t[i]*np.exp(-t[i])\n",
        "\n",
        "    A[0][0] = 1\n",
        "    A[N-1][N-2] = 2/h**2\n",
        "    \n",
        "    p = np.zeros(N)\n",
        "    q = np.zeros(N)\n",
        "\n",
        "\n",
        "    y = np.linalg.solve(A, b)\n",
        "    return t, y\n"
      ]
    },
    {
      "cell_type": "code",
      "source": [
        "def calc_y1(N = 200):\n",
        "    h = 10 / N\n",
        "\n",
        "    t = np.linspace(0, 10, N)\n",
        "\n",
        "    y = np.zeros(N)\n",
        "    A = np.zeros([N,N])\n",
        "    b = np.zeros(N)\n",
        "\n",
        "    for i in range(1,N):\n",
        "        A[i][i-1] = 1/h**2\n",
        "        A[i][i] = -(10 + t[i]**2) - 2/h**2\n",
        "        if i != N-1:\n",
        "            A[i][i+1] = 1/h**2\n",
        "\n",
        "    b[0] = 1\n",
        "    A[0][0] = 1\n",
        "    A[N-1][N-2] = 2/h**2\n",
        "\n",
        "    y = np.linalg.solve(A, b)\n",
        "    return y"
      ],
      "metadata": {
        "id": "DJeTDwpq5yC-"
      },
      "execution_count": 18,
      "outputs": []
    },
    {
      "cell_type": "code",
      "source": [
        "def calc_y2(N = 200):\n",
        "    h = 10 / N\n",
        "\n",
        "    t = np.linspace(0, 10, N)\n",
        "\n",
        "    y = np.zeros(N)\n",
        "    A = np.zeros([N,N])\n",
        "    b = np.zeros(N)\n",
        "\n",
        "    for i in range(1,N):\n",
        "        A[i][i-1] = 1/h**2\n",
        "        A[i][i] = -(10 + t[i]**2) - 2/h**2\n",
        "        if i != N-1:\n",
        "            A[i][i+1] = 1/h**2\n",
        "\n",
        "    b[N-1] = -2/h\n",
        "    A[0][0] = 1\n",
        "    A[N-1][N-2] = 2/h**2\n",
        "\n",
        "    y = np.linalg.solve(A, b)\n",
        "    return y"
      ],
      "metadata": {
        "id": "TPcF4NlD503H"
      },
      "execution_count": 19,
      "outputs": []
    },
    {
      "cell_type": "code",
      "source": [
        "n = 500\n",
        "\n",
        "x, y0 = calc_y0(n)\n",
        "y1 = calc_y1(n)\n",
        "y2 = calc_y2(n)\n",
        "\n",
        "f, axs = plt.subplots(1,3,figsize=(12,4))\n",
        "axs[0].plot(x, y0)\n",
        "axs[1].plot(x, y1)\n",
        "axs[2].plot(x, y2)\n"
      ],
      "metadata": {
        "colab": {
          "base_uri": "https://localhost:8080/",
          "height": 282
        },
        "id": "Hg0jSVbG6OqZ",
        "outputId": "0e66662c-0603-4202-d1be-7b825ce8ba46"
      },
      "execution_count": 20,
      "outputs": [
        {
          "output_type": "execute_result",
          "data": {
            "text/plain": [
              "[<matplotlib.lines.Line2D at 0x7f921200d050>]"
            ]
          },
          "metadata": {},
          "execution_count": 20
        },
        {
          "output_type": "display_data",
          "data": {
            "text/plain": [
              "<Figure size 864x288 with 3 Axes>"
            ],
            "image/png": "[encoded data removed]"
          },
          "metadata": {
            "needs_background": "light"
          }
        }
      ]
    },
    {
      "cell_type": "markdown",
      "source": [
        "если хочу поставить краевые условия $y(0) =1, y(10)=2$, нужно найти константы c1 с2"
      ],
      "metadata": {
        "id": "i_dXWCGv_M3m"
      }
    },
    {
      "cell_type": "code",
      "source": [
        "A = np.array([[y1[0], y2[0]],\n",
        "              [y1[n-1], y2[n-1]]])\n",
        "b = np.array([1,2])\n",
        "\n",
        "c = np.linalg.solve(A,b)\n",
        "c\n",
        "\n",
        "plt.plot(x, y0+c[0]*y1+c[1]*y2)\n",
        "plt.grid()"
      ],
      "metadata": {
        "colab": {
          "base_uri": "https://localhost:8080/",
          "height": 265
        },
        "id": "myIYZ8TJ_h7y",
        "outputId": "416b1511-3818-41a0-9659-23e2a7c6ab02"
      },
      "execution_count": 21,
      "outputs": [
        {
          "output_type": "display_data",
          "data": {
            "text/plain": [
              "<Figure size 432x288 with 1 Axes>"
            ],
            "image/png": "[encoded data removed]"
          },
          "metadata": {
            "needs_background": "light"
          }
        }
      ]
    },
    {
      "cell_type": "markdown",
      "source": [
        "настоящая прогонка $y_{n+1} = p_n y_n + q_n$\n"
      ],
      "metadata": {
        "id": "7F-21IVYWhSj"
      }
    },
    {
      "cell_type": "code",
      "source": [
        "def solve_bound(a, b, end = 10, N = 1000):\n",
        "    h = end / N\n",
        "    x, y = np.linspace(0, end, N), np.linspace(0, end, N)\n",
        "    p, q = np.linspace(0, end, N), np.linspace(0, end, N)\n",
        "\n",
        "    y[0] = a\n",
        "    y[N - 1] = b \n",
        "    p[0] = 0\n",
        "    q[0] = a\n",
        "\n",
        "    for i in range(1, N):\n",
        "        p[i] = 1 / h ** 2 / (10 + x[i - 1] ** 2 + 2 / h**2 - 1 / h ** 2 * p[i - 1])\n",
        "        q[i] = (q[i - 1] / h ** 2 - x[i-1] * np.exp(-x[i - 1])) / (10 + x[i - 1] ** 2 + 2 / h**2 - 1 / h ** 2 * p[i - 1])\n",
        "\n",
        "    for i in range(N - 1, 1, -1):\n",
        "        y[i - 1] = p[i - 1] * y[i] + q[i - 1]\n",
        "    \n",
        "    \n",
        "    plt.plot(x, y)\n",
        "\n",
        "    return x, y\n",
        "\n",
        "x, y = solve_bound(1, 2, 10)\n",
        "plt.grid()"
      ],
      "metadata": {
        "colab": {
          "base_uri": "https://localhost:8080/",
          "height": 265
        },
        "id": "X949ystIRSSv",
        "outputId": "70d26f2e-5853-4709-b619-8487d86fee0c"
      },
      "execution_count": 22,
      "outputs": [
        {
          "output_type": "display_data",
          "data": {
            "text/plain": [
              "<Figure size 432x288 with 1 Axes>"
            ],
            "image/png": "[encoded data removed]"
          },
          "metadata": {
            "needs_background": "light"
          }
        }
      ]
    },
    {
      "cell_type": "markdown",
      "source": [
        "в"
      ],
      "metadata": {
        "id": "SsWSBgYpORyN"
      }
    },
    {
      "cell_type": "markdown",
      "source": [
        "#9.3a\n"
      ],
      "metadata": {
        "id": "UTb-EMnlO3F8"
      }
    },
    {
      "cell_type": "markdown",
      "source": [
        "метод стрельбы \n",
        "\n",
        "$y'' = t \\sqrt{y}$ \n",
        "\n",
        "$y(0) = 0, y(1) = 2$, $t \\in [0,1]$\n"
      ],
      "metadata": {
        "id": "EP9ne72OEt5O"
      }
    },
    {
      "cell_type": "markdown",
      "source": [
        "$\\frac{1}{h^2} (y_{n+1} - 2y_n + y_{n-1}) = t_n \\sqrt{y_n}$"
      ],
      "metadata": {
        "id": "CXEa6q5vKsLT"
      }
    },
    {
      "cell_type": "code",
      "source": [
        "def solve(a, N = 400):\n",
        "    h = 1/N\n",
        "    t, y = np.linspace(0, 1, N), np.linspace(0, 1, N)\n",
        "\n",
        "    y[0] = 0\n",
        "    y[1] = h*a\n",
        "\n",
        "    for i in range(2,N):\n",
        "        y[i] = (t[i-1]*np.sqrt(y[i-1]))*h*h - y[i-2] + 2*y[i-1]\n",
        "\n",
        "    # plt.figure(figsize=(6, 4))\n",
        "    # plt.plot(t, y)\n",
        "\n",
        "    return y[N-1]"
      ],
      "metadata": {
        "id": "frywH3XmLCLo"
      },
      "execution_count": 23,
      "outputs": []
    },
    {
      "cell_type": "markdown",
      "source": [
        "как выглядит зависимость $y(1, \\alpha)$"
      ],
      "metadata": {
        "id": "deK-xeNuPXig"
      }
    },
    {
      "cell_type": "code",
      "source": [
        "a1 = np.linspace(-2, 4, 100)\n",
        "y1 = np.array([])\n",
        "\n",
        "for i in a1:\n",
        "    y1 = np.append(y1, solve(i))\n",
        "\n",
        "plt.plot(a1, y1)\n",
        "plt.grid()\n",
        "plt.show()"
      ],
      "metadata": {
        "colab": {
          "base_uri": "https://localhost:8080/",
          "height": 300
        },
        "id": "fBHdsuIAM-MY",
        "outputId": "d0a0efeb-664d-4532-e33c-a4a9752088aa"
      },
      "execution_count": 24,
      "outputs": [
        {
          "output_type": "stream",
          "name": "stderr",
          "text": [
            "/usr/local/lib/python3.7/dist-packages/ipykernel_launcher.py:9: RuntimeWarning: invalid value encountered in sqrt\n",
            "  if __name__ == '__main__':\n"
          ]
        },
        {
          "output_type": "display_data",
          "data": {
            "text/plain": [
              "<Figure size 432x288 with 1 Axes>"
            ],
            "image/png": "[encoded data removed]"
          },
          "metadata": {
            "needs_background": "light"
          }
        }
      ]
    },
    {
      "cell_type": "markdown",
      "source": [
        "точность y(1) = 2 пусть $\\varepsilon = 10^{-3}$\n",
        "\n",
        "решаем делением отрезка пополам  [1,3]"
      ],
      "metadata": {
        "id": "wDZZJeCtMXOJ"
      }
    },
    {
      "cell_type": "code",
      "source": [
        "eps = 1e-3\n",
        "\n",
        "b, c = 1,3\n",
        "a = 2\n",
        "\n",
        "while abs(solve(a) - 2) > eps:\n",
        "    if solve(a) > 2:\n",
        "        c = a\n",
        "    else:\n",
        "        b = a\n",
        "    a = (b+c)/2\n",
        "\n",
        "print(\"a = \", a,\"\\n y(1, a) = \", solve(a))"
      ],
      "metadata": {
        "id": "CptMLrUKEwpS",
        "colab": {
          "base_uri": "https://localhost:8080/"
        },
        "outputId": "80a2fbfc-ea1d-4f65-f7b9-08841874c3a6"
      },
      "execution_count": 25,
      "outputs": [
        {
          "output_type": "stream",
          "name": "stdout",
          "text": [
            "a =  1.84765625 \n",
            " y(1, a) =  1.9992923215595264\n"
          ]
        }
      ]
    },
    {
      "cell_type": "code",
      "source": [
        ""
      ],
      "metadata": {
        "id": "lkzp7b1JnJ-n"
      },
      "execution_count": 25,
      "outputs": []
    }
  ]
}