{
  "nbformat": 4,
  "nbformat_minor": 0,
  "metadata": {
    "colab": {
      "name": " 10 theme 7.5.ipynb",
      "provenance": [],
      "authorship_tag": "ABX9TyMV8qAqpZUUuW6KcLyr64Ut",
      "include_colab_link": true
    },
    "kernelspec": {
      "name": "python3",
      "display_name": "Python 3"
    },
    "language_info": {
      "name": "python"
    }
  },
  "cells": [
    {
      "cell_type": "markdown",
      "metadata": {
        "id": "view-in-github",
        "colab_type": "text"
      },
      "source": [
        "<a href=\"https://colab.research.google.com/github/mipt-alexa/computational-math-course/blob/main/10_theme_7_5.ipynb\" target=\"_parent\"><img src=\"https://colab.research.google.com/assets/colab-badge.svg\" alt=\"Open In Colab\"/></a>"
      ]
    },
    {
      "cell_type": "code",
      "execution_count": 1,
      "metadata": {
        "id": "nGlyffPU3pqC"
      },
      "outputs": [],
      "source": [
        "import numpy as np\n",
        "import matplotlib.pyplot as plt"
      ]
    },
    {
      "cell_type": "code",
      "source": [
        "c = 4\n"
      ],
      "metadata": {
        "id": "CJiSsvb6-J0O"
      },
      "execution_count": 2,
      "outputs": []
    },
    {
      "cell_type": "code",
      "source": [
        "def f1(gamma, x):\n",
        "\n",
        "    return 1 + x/(1 - gamma*x) + x*x*(0.5-gamma)/np.power((1 - gamma*x), 2)"
      ],
      "metadata": {
        "id": "jMEKBrqDAGoJ"
      },
      "execution_count": 18,
      "outputs": []
    },
    {
      "cell_type": "code",
      "source": [
        "def solve_ineq(f, s, c=4, num_points=200):\n",
        "\n",
        "    x = np.linspace(-c, c,  num_points)\n",
        "    y = np.linspace(-c, c, num_points)\n",
        "\n",
        "    X = np.array([])\n",
        "    Y = X\n",
        " \n",
        "    if s:\n",
        "        gamma = 0.5 + 1/2/np.sqrt(3)\n",
        "    else: \n",
        "        gamma = 0.5 - 1/2/np.sqrt(3)\n",
        "\n",
        "    for x_i in x:\n",
        "        for y_i in y:\n",
        "            z = complex(x_i, y_i)\n",
        "            if abs(f(gamma, z)) < 1:\n",
        "                X = np.append(X, x_i)\n",
        "                Y = np.append(Y, y_i)\n",
        "    \n",
        "    Limits = [[-c, c],[-c, c]]\n",
        "\n",
        "    plt.figure(figsize=(6, 6))\n",
        "    plt.scatter(X, Y)\n",
        "    plt.xlim(Limits[0])\n",
        "    plt.ylim(Limits[1])\n",
        "    plt.grid()"
      ],
      "metadata": {
        "id": "SDOk0eKm39iN"
      },
      "execution_count": 19,
      "outputs": []
    },
    {
      "cell_type": "markdown",
      "source": [
        "Тут гамма с минусом\n"
      ],
      "metadata": {
        "id": "KiMUUyTvLwLl"
      }
    },
    {
      "cell_type": "code",
      "source": [
        "solve_ineq(f1, 0)"
      ],
      "metadata": {
        "colab": {
          "base_uri": "https://localhost:8080/",
          "height": 378
        },
        "id": "96Xm1ana-77N",
        "outputId": "3051f574-c83f-4e57-f3f7-da2ee67e5bbf"
      },
      "execution_count": 20,
      "outputs": [
        {
          "output_type": "display_data",
          "data": {
            "text/plain": [
              "<Figure size 432x432 with 1 Axes>"
            ],
            "image/png": "[encoded data removed]"
          },
          "metadata": {
            "needs_background": "light"
          }
        }
      ]
    },
    {
      "cell_type": "markdown",
      "source": [
        "Тут гамма с плюсом"
      ],
      "metadata": {
        "id": "G-IYrQouL2Dy"
      }
    },
    {
      "cell_type": "code",
      "source": [
        "solve_ineq(f1, 1)"
      ],
      "metadata": {
        "id": "hHDMuvz2KwAX",
        "colab": {
          "base_uri": "https://localhost:8080/",
          "height": 378
        },
        "outputId": "ee0986fc-31fe-421d-dad1-c2d224e0f251"
      },
      "execution_count": 21,
      "outputs": [
        {
          "output_type": "display_data",
          "data": {
            "text/plain": [
              "<Figure size 432x432 with 1 Axes>"
            ],
            "image/png": "[encoded data removed]"
          },
          "metadata": {
            "needs_background": "light"
          }
        }
      ]
    },
    {
      "cell_type": "code",
      "source": [
        ""
      ],
      "metadata": {
        "id": "MWhX64o-LqMk"
      },
      "execution_count": null,
      "outputs": []
    }
  ]
}