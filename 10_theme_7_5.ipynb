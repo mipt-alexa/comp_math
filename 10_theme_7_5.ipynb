{
  "nbformat": 4,
  "nbformat_minor": 0,
  "metadata": {
    "colab": {
      "name": " 10 theme 7.5.ipynb",
      "provenance": [],
      "authorship_tag": "ABX9TyMbHKCU+kcvaLyAIr7v5WBL",
      "include_colab_link": true
    },
    "kernelspec": {
      "name": "python3",
      "display_name": "Python 3"
    },
    "language_info": {
      "name": "python"
    }
  },
  "cells": [
    {
      "cell_type": "markdown",
      "metadata": {
        "id": "view-in-github",
        "colab_type": "text"
      },
      "source": [
        "<a href=\"https://colab.research.google.com/github/mipt-alexa/computational-math-course/blob/main/10_theme_7_5.ipynb\" target=\"_parent\"><img src=\"https://colab.research.google.com/assets/colab-badge.svg\" alt=\"Open In Colab\"/></a>"
      ]
    },
    {
      "cell_type": "code",
      "execution_count": 17,
      "metadata": {
        "id": "nGlyffPU3pqC"
      },
      "outputs": [],
      "source": [
        "import numpy as np\n",
        "import matplotlib.pyplot as plt"
      ]
    },
    {
      "cell_type": "code",
      "source": [
        "from matplotlib.widgets import Slider, Button, RadioButtons\n"
      ],
      "metadata": {
        "id": "FMcYblxazBpk"
      },
      "execution_count": 18,
      "outputs": []
    },
    {
      "cell_type": "code",
      "source": [
        "c = 4\n"
      ],
      "metadata": {
        "id": "CJiSsvb6-J0O"
      },
      "execution_count": 19,
      "outputs": []
    },
    {
      "cell_type": "code",
      "source": [
        "def f1(gamma, x):\n",
        "\n",
        "    return 1 + x/(1 - gamma*x) + x*x*(0.5-gamma)/np.power((1 - gamma*x), 2)"
      ],
      "metadata": {
        "id": "jMEKBrqDAGoJ"
      },
      "execution_count": 20,
      "outputs": []
    },
    {
      "cell_type": "code",
      "source": [
        "def solve_ineq(f, gamma, c=4, num_points=200):\n",
        "\n",
        "    x = np.linspace(-c, c,  num_points)\n",
        "    y = np.linspace(-c, c, num_points)\n",
        "\n",
        "    X = np.array([])\n",
        "    Y = X\n",
        "\n",
        "    for x_i in x:\n",
        "        for y_i in y:\n",
        "            z = complex(x_i, y_i)\n",
        "            if abs(f(gamma, z)) < 1:\n",
        "                X = np.append(X, x_i)\n",
        "                Y = np.append(Y, y_i)\n",
        "    \n",
        "    Limits = [[-c, c],[-c, c]]\n",
        "\n",
        "    plt.figure(figsize=(4, 4))\n",
        "    plt.scatter(X, Y)\n",
        "    plt.xlim(Limits[0])\n",
        "    plt.ylim(Limits[1])\n",
        "    plt.grid()"
      ],
      "metadata": {
        "id": "SDOk0eKm39iN"
      },
      "execution_count": 21,
      "outputs": []
    },
    {
      "cell_type": "markdown",
      "source": [
        "#б) \n",
        "схема является A-устойчивой для $\\gamma = 1 \\pm 1/\\sqrt{2}$, значит L-уст."
      ],
      "metadata": {
        "id": "IMK9EKKuIZzE"
      }
    },
    {
      "cell_type": "code",
      "source": [
        "gamma = 1 + 1/np.sqrt(2)\n",
        "solve_ineq(f1, gamma)"
      ],
      "metadata": {
        "colab": {
          "base_uri": "https://localhost:8080/",
          "height": 269
        },
        "id": "IlBYej3oIwLG",
        "outputId": "54b229e0-faaa-4fb3-f46c-4115cdc69adc"
      },
      "execution_count": 22,
      "outputs": [
        {
          "output_type": "display_data",
          "data": {
            "text/plain": [
              "<Figure size 288x288 with 1 Axes>"
            ],
            "image/png": "[encoded data removed]"
          },
          "metadata": {
            "needs_background": "light"
          }
        }
      ]
    },
    {
      "cell_type": "code",
      "source": [
        "gamma = 1 - 1/np.sqrt(2)\n",
        "solve_ineq(f1, gamma)"
      ],
      "metadata": {
        "colab": {
          "base_uri": "https://localhost:8080/",
          "height": 269
        },
        "id": "pCTck5H9JYNp",
        "outputId": "2dd09e9e-5e75-45b7-c437-cda807bfdd80"
      },
      "execution_count": 23,
      "outputs": [
        {
          "output_type": "display_data",
          "data": {
            "text/plain": [
              "<Figure size 288x288 with 1 Axes>"
            ],
            "image/png": "[encoded data removed]"
          },
          "metadata": {
            "needs_background": "light"
          }
        }
      ]
    },
    {
      "cell_type": "markdown",
      "source": [
        "#в)"
      ],
      "metadata": {
        "id": "qIfFYODwIwtY"
      }
    },
    {
      "cell_type": "markdown",
      "source": [
        "Тут гамма с минусом\n"
      ],
      "metadata": {
        "id": "KiMUUyTvLwLl"
      }
    },
    {
      "cell_type": "code",
      "source": [
        "gamma = 0.5 - 1/2/np.sqrt(3)\n",
        "\n",
        "solve_ineq(f1, gamma)"
      ],
      "metadata": {
        "colab": {
          "base_uri": "https://localhost:8080/",
          "height": 269
        },
        "id": "96Xm1ana-77N",
        "outputId": "22ced57a-8323-4388-b4c3-7a3ec478a109"
      },
      "execution_count": 24,
      "outputs": [
        {
          "output_type": "display_data",
          "data": {
            "text/plain": [
              "<Figure size 288x288 with 1 Axes>"
            ],
            "image/png": "[encoded data removed]"
          },
          "metadata": {
            "needs_background": "light"
          }
        }
      ]
    },
    {
      "cell_type": "markdown",
      "source": [
        "Тут гамма с плюсом"
      ],
      "metadata": {
        "id": "G-IYrQouL2Dy"
      }
    },
    {
      "cell_type": "code",
      "source": [
        "gamma = 0.5 + 1/2/np.sqrt(3)\n",
        "solve_ineq(f1, gamma)"
      ],
      "metadata": {
        "id": "hHDMuvz2KwAX",
        "colab": {
          "base_uri": "https://localhost:8080/",
          "height": 269
        },
        "outputId": "7390ab75-e5c8-4690-a703-2ced3f70ef80"
      },
      "execution_count": 25,
      "outputs": [
        {
          "output_type": "display_data",
          "data": {
            "text/plain": [
              "<Figure size 288x288 with 1 Axes>"
            ],
            "image/png": "[encoded data removed]"
          },
          "metadata": {
            "needs_background": "light"
          }
        }
      ]
    },
    {
      "cell_type": "code",
      "source": [
        " "
      ],
      "metadata": {
        "id": "MWhX64o-LqMk"
      },
      "execution_count": 25,
      "outputs": []
    }
  ]
}