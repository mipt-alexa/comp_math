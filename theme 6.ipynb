{
  "nbformat": 4,
  "nbformat_minor": 0,
  "metadata": {
    "colab": {
      "name": "theme6.ipynb",
      "provenance": [],
      "collapsed_sections": []
    },
    "kernelspec": {
      "name": "python3",
      "display_name": "Python 3"
    },
    "language_info": {
      "name": "python"
    }
  },
  "cells": [
    {
      "cell_type": "code",
      "metadata": {
        "id": "5U9TwtzKy_GD"
      },
      "source": [
        "import numpy as np\n",
        "import matplotlib.pyplot as plt"
      ],
      "execution_count": 11,
      "outputs": []
    },
    {
      "cell_type": "markdown",
      "metadata": {
        "id": "IHBA7o9Qzb0o"
      },
      "source": [
        "#9.1 a"
      ]
    },
    {
      "cell_type": "markdown",
      "metadata": {
        "id": "cSPce6WBzgpQ"
      },
      "source": [
        "$(x-1)^2 - \\dfrac{e^x}{2} = 0$"
      ]
    },
    {
      "cell_type": "code",
      "metadata": {
        "id": "_1Lig7TP0pLE"
      },
      "source": [
        "x = [0.2, 0.25, 0.27, 0.3]\n",
        "\n",
        "y = [0.029, -0.080, -0.122, -0.185]\n",
        "n =4"
      ],
      "execution_count": 12,
      "outputs": []
    },
    {
      "cell_type": "markdown",
      "metadata": {
        "id": "ZG2N-Cxyzt35"
      },
      "source": [
        "\n",
        "\n",
        "приблизим зависимость $x(y)$ многочленом ( в форме Лагранжа)\n",
        "\n",
        "---\n",
        "\n"
      ]
    },
    {
      "cell_type": "code",
      "metadata": {
        "id": "P_wRl74BzHC-"
      },
      "source": [
        "def l(i, y1):\n",
        "    r = 1.\n",
        "    for j in range(n):\n",
        "        if i != j:\n",
        "            r *= (y1 - y[j])/(y[i] - y[j])\n",
        "    return r"
      ],
      "execution_count": 13,
      "outputs": []
    },
    {
      "cell_type": "code",
      "metadata": {
        "id": "y4dMBGZgza7y"
      },
      "source": [
        "def func(y1):\n",
        "    r = 0\n",
        "    for i in range(n):\n",
        "        r += l(i, y1)*x[i]\n",
        "    return r"
      ],
      "execution_count": 14,
      "outputs": []
    },
    {
      "cell_type": "code",
      "metadata": {
        "colab": {
          "base_uri": "https://localhost:8080/",
          "height": 413
        },
        "id": "RXaAUvpV11nV",
        "outputId": "4dda6752-4d25-4985-a1f8-84f5c4330df4"
      },
      "source": [
        "plt.figure(figsize=(8, 6), dpi=80)\n",
        "\n",
        "plt.scatter(x, y)\n",
        "\n",
        "x0 = np.linspace(0.15, 0.3, 20)\n",
        "plt.plot(x0, (x0-1)**2 - np.exp(x0)/2, label='true')\n",
        "\n",
        "y0 = np.linspace(-0.2, 0.15, 20)\n",
        "\n",
        "plt.plot(func(y0), y0, label='interpolation')\n",
        "\n",
        "plt.legend()\n",
        "plt.grid()\n",
        "plt.show()"
      ],
      "execution_count": 15,
      "outputs": [
        {
          "output_type": "display_data",
          "data": {
            "image/png": "[encoded data removed]",
            "text/plain": [
              "<Figure size 640x480 with 1 Axes>"
            ]
          },
          "metadata": {
            "needs_background": "light"
          }
        }
      ]
    },
    {
      "cell_type": "markdown",
      "metadata": {
        "id": "NBwh_0pg3-5f"
      },
      "source": [
        "Тогда корень исходного уравнения x = f(0)"
      ]
    },
    {
      "cell_type": "code",
      "metadata": {
        "id": "8HTuQo9e2XhP",
        "colab": {
          "base_uri": "https://localhost:8080/"
        },
        "outputId": "1548d855-a382-40e3-8ac1-52727caf2ff7"
      },
      "source": [
        "print(func(0))"
      ],
      "execution_count": 16,
      "outputs": [
        {
          "output_type": "stream",
          "name": "stdout",
          "text": [
            "0.21288120069524213\n"
          ]
        }
      ]
    },
    {
      "cell_type": "markdown",
      "metadata": {
        "id": "XI8uZVYV42u7"
      },
      "source": [
        "Точное решение:"
      ]
    },
    {
      "cell_type": "code",
      "metadata": {
        "colab": {
          "base_uri": "https://localhost:8080/"
        },
        "id": "1bQDdy7G4GPY",
        "outputId": "fce1657c-4878-4d13-f4fb-7db106b98be8"
      },
      "source": [
        "from scipy.optimize import fsolve\n",
        "\n",
        "def myFunction(x):\n",
        "    return (x-1)**2 - np.exp(x)/2\n",
        "\n",
        "print(fsolve(myFunction, 0))\n",
        "\n",
        "print(func(0) - fsolve(myFunction, 0))"
      ],
      "execution_count": 17,
      "outputs": [
        {
          "output_type": "stream",
          "name": "stdout",
          "text": [
            "[0.21330863]\n",
            "[-0.00042743]\n"
          ]
        }
      ]
    },
    {
      "cell_type": "markdown",
      "metadata": {
        "id": "gfGmiCAX5N0H"
      },
      "source": [
        "Погрешность!!!!!!!!!!!!!!!!!!!!!!!!!!\n",
        " \n",
        " Погрешность метода: $R_{meth} = \\dfrac{|f^{(4)}(\\xi)|}{4!} || ω_4(x) || $\n",
        "\n",
        " $f'_y = \\frac{1}{y'(x)} = \\frac{1}{2(x-1) - e^x/2} $\n",
        "\n",
        "\n",
        "$ f''_{yy} = \\dfrac{d f'_y}{dx} \\dfrac{d x }{dy} = \\dfrac{d f'_y}{dx} \\dfrac{1}{y'(x)}$\n",
        "\n",
        "это неприятно считать честно, поэтому давайте скажем $y' \\approx 2.1$\n",
        "\n",
        "вольфрам\n",
        "\n",
        " $ \\frac {d^3}{dx^3}  \\frac{1}{2 x - 2 - exp(x)/2)} = \\frac{2 (4 e^x (x - 5) + 4 e^x + 2 e^{2 x})}{(4 x - e^x - 4)^3} - \\frac{6 (4 - e^x) (4 e^x (x - 5) + e^{2 x} + 32)}{(4 x - e^x - 4)^4} $\n",
        "\n",
        "при $x \\in [0.2, 0.3] $ производная ограничивается как $0 \\le |f^{(4)} (x)| \\le  \\frac{0.077}{2.1^3} = 8 e-3 $ \n",
        "\n",
        "$|| ω_4(x) || = 2.38e-6 $\n",
        "\n",
        "и окончательно\n",
        "\n",
        "$R_{meth} \\le 8e-10$"
      ]
    },
    {
      "cell_type": "markdown",
      "metadata": {
        "id": "al2LnxY3bX7c"
      },
      "source": [
        "*Неустранимая* погрешность\n",
        "\n",
        "$R = \\sum_i \\Delta f |l_i(x)|$"
      ]
    },
    {
      "cell_type": "code",
      "metadata": {
        "colab": {
          "base_uri": "https://localhost:8080/"
        },
        "id": "_1LqtOdQP7Re",
        "outputId": "60d39331-bde8-489b-97e2-b0f3f4d30246"
      },
      "source": [
        "r = 0\n",
        "\n",
        "for i in range(n):\n",
        "    r += abs(l(i, 0))\n",
        "\n",
        "print(r)"
      ],
      "execution_count": 18,
      "outputs": [
        {
          "output_type": "stream",
          "name": "stdout",
          "text": [
            "3.1484384776721583\n"
          ]
        }
      ]
    },
    {
      "cell_type": "markdown",
      "metadata": {
        "id": "hKvdZwrWQwpB"
      },
      "source": [
        "две знаащие цифры\n",
        "\n",
        "$ R = 0.005 * 3.14  = 1.6e-2$"
      ]
    },
    {
      "cell_type": "markdown",
      "metadata": {
        "id": "LO6mzh7X5Qh-"
      },
      "source": [
        "#9.2 b\n"
      ]
    },
    {
      "cell_type": "markdown",
      "metadata": {
        "id": "MtpGcHqN56M_"
      },
      "source": [
        "$f'(0.3) $ ?"
      ]
    },
    {
      "cell_type": "code",
      "metadata": {
        "colab": {
          "base_uri": "https://localhost:8080/",
          "height": 283
        },
        "id": "_QZof61W4xLd",
        "outputId": "07a76638-fa08-4dc1-ac56-e027759fd883"
      },
      "source": [
        "x =[0, 0.1,0.2, 0.3, 0.4]\n",
        "\n",
        "y = [ 5, 2.5, 3, -2.5, -0.2]\n",
        "\n",
        "plt.scatter(x, y)"
      ],
      "execution_count": 19,
      "outputs": [
        {
          "output_type": "execute_result",
          "data": {
            "text/plain": [
              "<matplotlib.collections.PathCollection at 0x7efd0fd88a50>"
            ]
          },
          "metadata": {},
          "execution_count": 19
        },
        {
          "output_type": "display_data",
          "data": {
            "image/png": "[encoded data removed]",
            "text/plain": [
              "<Figure size 432x288 with 1 Axes>"
            ]
          },
          "metadata": {
            "needs_background": "light"
          }
        }
      ]
    },
    {
      "cell_type": "code",
      "metadata": {
        "id": "HkdniAyt5_fi"
      },
      "source": [
        "n = 5"
      ],
      "execution_count": 20,
      "outputs": []
    },
    {
      "cell_type": "code",
      "metadata": {
        "id": "jBJw_r9TfAWD"
      },
      "source": [
        "def l(i, x1):\n",
        "    r = 1.\n",
        "    for j in range(n):\n",
        "        if i != j:\n",
        "            r *= (x1 - x[j])/(x[i] - x[j])\n",
        "    return r"
      ],
      "execution_count": 21,
      "outputs": []
    },
    {
      "cell_type": "code",
      "metadata": {
        "id": "slZ1SmDwfAWx"
      },
      "source": [
        "def func(x1):\n",
        "    r = 0\n",
        "    for i in range(n):\n",
        "        r += l(i, x1)*y[i]\n",
        "    return r"
      ],
      "execution_count": 22,
      "outputs": []
    },
    {
      "cell_type": "code",
      "metadata": {
        "colab": {
          "base_uri": "https://localhost:8080/",
          "height": 413
        },
        "id": "fnSlBbSUfDdC",
        "outputId": "c68c653d-6820-4c32-b0e2-dafaf224970c"
      },
      "source": [
        "plt.figure(figsize=(7, 6), dpi=80)\n",
        "\n",
        "plt.scatter(x, y)\n",
        "\n",
        "x0 = np.linspace(0., 0.4, 100)\n",
        " \n",
        "plt.plot(x0, func(x0))\n",
        "\n",
        "plt.grid()\n",
        "plt.show()"
      ],
      "execution_count": 23,
      "outputs": [
        {
          "output_type": "display_data",
          "data": {
            "image/png": "[encoded data removed]",
            "text/plain": [
              "<Figure size 560x480 with 1 Axes>"
            ]
          },
          "metadata": {
            "needs_background": "light"
          }
        }
      ]
    },
    {
      "cell_type": "markdown",
      "metadata": {
        "id": "xdyDh9mbfwKD"
      },
      "source": [
        "# 8.12 \n",
        "\n",
        "посчитаем"
      ]
    },
    {
      "cell_type": "code",
      "metadata": {
        "id": "UcVG97FTfhYm",
        "colab": {
          "base_uri": "https://localhost:8080/"
        },
        "outputId": "06d1d7b7-aa24-4ac4-c6ed-bf4024d2b66e"
      },
      "source": [
        "x = [0, np.pi/6, np.pi/4, np.pi/3]\n",
        "\n",
        "x0 = np.pi/5\n",
        "\n",
        "r = 1.\n",
        "for i in range(4):\n",
        "    for j in range(4):\n",
        "        if i != j:\n",
        "            r *= (x0-x[j]) / (x[i] - x[j])\n",
        "\n",
        "print(abs(r))"
      ],
      "execution_count": 24,
      "outputs": [
        {
          "output_type": "stream",
          "name": "stdout",
          "text": [
            "0.00033973862400000056\n"
          ]
        }
      ]
    },
    {
      "cell_type": "markdown",
      "metadata": {
        "id": "bL6QEyPPqKhm"
      },
      "source": [
        "#8.18b\n",
        "\n"
      ]
    },
    {
      "cell_type": "code",
      "metadata": {
        "colab": {
          "base_uri": "https://localhost:8080/",
          "height": 283
        },
        "id": "cajBYkb_qKDJ",
        "outputId": "0e4ee558-7c2d-4c5e-e486-5cfdd7efc23d"
      },
      "source": [
        "x = np.linspace(-2,2,100)\n",
        "\n",
        "plt.plot(x, x**2*np.exp(-x))\n",
        "plt.plot(x, x**2 * (x**2/6 - 2*x/3 +1)/(1+x/3))"
      ],
      "execution_count": 25,
      "outputs": [
        {
          "output_type": "execute_result",
          "data": {
            "text/plain": [
              "[<matplotlib.lines.Line2D at 0x7efd0fb9c950>]"
            ]
          },
          "metadata": {},
          "execution_count": 25
        },
        {
          "output_type": "display_data",
          "data": {
            "image/png": "[encoded data removed]",
            "text/plain": [
              "<Figure size 432x288 with 1 Axes>"
            ]
          },
          "metadata": {
            "needs_background": "light"
          }
        }
      ]
    },
    {
      "cell_type": "markdown",
      "metadata": {
        "id": "jUKgHRSiyYjG"
      },
      "source": [
        "#9.2"
      ]
    },
    {
      "cell_type": "code",
      "metadata": {
        "colab": {
          "base_uri": "https://localhost:8080/"
        },
        "id": "M4rh9MKFsnYR",
        "outputId": "945d679e-ed19-4c62-a30b-1d41d6e01560"
      },
      "source": [
        "A = np.zeros((5,5))\n",
        "x = np.linspace(0, 0.4, 5)\n",
        "print(x)\n",
        "f = np.zeros(5)\n",
        "\n",
        "\n",
        "for i in range(5):\n",
        "    f[i] = i * 0.3**(i-1)\n",
        "    for j in range(5):\n",
        "        A[j][i] = x[i]**j\n",
        "\n",
        "print(A, f)\n",
        "\n",
        "sol = np.linalg.solve(A, f)\n",
        "print(np.dot(sol, np.array([5, 2.5, 3, -2.5, -0.2])))\n"
      ],
      "execution_count": 26,
      "outputs": [
        {
          "output_type": "stream",
          "name": "stdout",
          "text": [
            "[0.  0.1 0.2 0.3 0.4]\n",
            "[[1.00e+00 1.00e+00 1.00e+00 1.00e+00 1.00e+00]\n",
            " [0.00e+00 1.00e-01 2.00e-01 3.00e-01 4.00e-01]\n",
            " [0.00e+00 1.00e-02 4.00e-02 9.00e-02 1.60e-01]\n",
            " [0.00e+00 1.00e-03 8.00e-03 2.70e-02 6.40e-02]\n",
            " [0.00e+00 1.00e-04 1.60e-03 8.10e-03 2.56e-02]] [0.    1.    0.6   0.27  0.108]\n",
            "-58.00000000000019\n"
          ]
        }
      ]
    },
    {
      "cell_type": "markdown",
      "metadata": {
        "id": "En6JGuljUq6T"
      },
      "source": [
        "#7.2 про многочлены чебышева"
      ]
    },
    {
      "cell_type": "code",
      "metadata": {
        "id": "zsO5iLjZzuwF",
        "colab": {
          "base_uri": "https://localhost:8080/"
        },
        "outputId": "6abd116b-156b-46d6-932f-ee390bc16cb5"
      },
      "source": [
        "n = 8\n",
        "\n",
        "x = np.array([np.cos(i * np.pi / n) for i in range(n+1)])\n",
        "\n",
        "T = np.zeros((n+1,n+1))\n",
        "\n",
        "for i in range(n+1):\n",
        "    for j in range(n+1):\n",
        "        for k in range(n+1):\n",
        "            T[i][j] += np.cos(i * np.pi * k /n)*np.cos(j * np.pi * k /n)\n",
        "        T[i][j] = round( float(T[i][j]), 2 )\n",
        "\n",
        "print(T)"
      ],
      "execution_count": 27,
      "outputs": [
        {
          "output_type": "stream",
          "name": "stdout",
          "text": [
            "[[ 9.  0.  1. -0.  1.  0.  1.  0.  1.]\n",
            " [ 0.  5.  0.  1.  0.  1. -0.  1.  0.]\n",
            " [ 1.  0.  5.  0.  1.  0.  1.  0.  1.]\n",
            " [-0.  1.  0.  5.  0.  1. -0.  1.  0.]\n",
            " [ 1.  0.  1.  0.  5.  0.  1. -0.  1.]\n",
            " [ 0.  1.  0.  1.  0.  5.  0.  1. -0.]\n",
            " [ 1. -0.  1. -0.  1.  0.  5. -0.  1.]\n",
            " [ 0.  1.  0.  1. -0.  1. -0.  5. -0.]\n",
            " [ 1.  0.  1.  0.  1. -0.  1. -0.  9.]]\n"
          ]
        }
      ]
    },
    {
      "cell_type": "code",
      "metadata": {
        "id": "C0CqR0WAU-UP"
      },
      "source": [
        ""
      ],
      "execution_count": 27,
      "outputs": []
    }
  ]
}