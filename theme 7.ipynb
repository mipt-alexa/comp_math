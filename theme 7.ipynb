{
  "nbformat": 4,
  "nbformat_minor": 0,
  "metadata": {
    "colab": {
      "name": "theme 7.ipynb",
      "provenance": [],
      "collapsed_sections": []
    },
    "kernelspec": {
      "name": "python3",
      "display_name": "Python 3"
    },
    "language_info": {
      "name": "python"
    }
  },
  "cells": [
    {
      "cell_type": "code",
      "metadata": {
        "id": "PQO07edSCcp6"
      },
      "source": [
        "import numpy as np\n",
        "import matplotlib.pyplot as plt"
      ],
      "execution_count": 28,
      "outputs": []
    },
    {
      "cell_type": "markdown",
      "metadata": {
        "id": "is3Zcso-CoTq"
      },
      "source": [
        "#9.5 г"
      ]
    },
    {
      "cell_type": "code",
      "metadata": {
        "colab": {
          "base_uri": "https://localhost:8080/"
        },
        "id": "8jTejhqDCnWL",
        "outputId": "65cc159d-ec21-4c84-d20c-7c497db6bd02"
      },
      "source": [
        "x = np.linspace(0,2,9)\n",
        "\n",
        "print(x)\n",
        "\n",
        "y = np.zeros(len(x))\n",
        "y[0] = 1.\n",
        "\n",
        "for i in range(1, len(x)):\n",
        "    y[i] = np.arctan(x[i])  /x[i] # ??????\n",
        "\n",
        "y = np.round(y, 6)\n",
        "\n",
        "print(y)"
      ],
      "execution_count": 29,
      "outputs": [
        {
          "output_type": "stream",
          "name": "stdout",
          "text": [
            "[0.   0.25 0.5  0.75 1.   1.25 1.5  1.75 2.  ]\n",
            "[1.       0.979915 0.927295 0.858001 0.785398 0.716844 0.655196 0.600943\n",
            " 0.553574]\n"
          ]
        }
      ]
    },
    {
      "cell_type": "markdown",
      "metadata": {
        "id": "yE9k7PyyHlPv"
      },
      "source": [
        "метод трапеций:"
      ]
    },
    {
      "cell_type": "code",
      "metadata": {
        "colab": {
          "base_uri": "https://localhost:8080/"
        },
        "id": "hl3Re2hQCzYB",
        "outputId": "572df312-7730-4870-92f7-8a91f092066f"
      },
      "source": [
        "n = len(x)\n",
        "\n",
        "def trapeze(h):\n",
        "    I = 0.\n",
        "    step = int(h/0.25)\n",
        "\n",
        "    for i in range(0, n-1, step):\n",
        "        I += h* (y[i] + y[i+step])/2\n",
        "\n",
        "    print(np.round(I,6))\n",
        "    \n",
        "\n",
        "trapeze(0.25)\n",
        "trapeze(0.5)"
      ],
      "execution_count": 30,
      "outputs": [
        {
          "output_type": "stream",
          "name": "stdout",
          "text": [
            "1.575095\n",
            "1.572338\n"
          ]
        }
      ]
    },
    {
      "cell_type": "markdown",
      "metadata": {
        "id": "bTXSMvluIi5M"
      },
      "source": [
        "экстраполяция ричардсона:"
      ]
    },
    {
      "cell_type": "code",
      "metadata": {
        "colab": {
          "base_uri": "https://localhost:8080/"
        },
        "id": "Dgd1PifzIBQz",
        "outputId": "a7167ddd-53ba-4148-dd3e-e6f7d0c34977"
      },
      "source": [
        "round(1.575095 + (1.575095 - 1.572338) / (2**2 - 1), 6)"
      ],
      "execution_count": 31,
      "outputs": [
        {
          "output_type": "execute_result",
          "data": {
            "text/plain": [
              "1.576014"
            ]
          },
          "metadata": {},
          "execution_count": 31
        }
      ]
    },
    {
      "cell_type": "markdown",
      "metadata": {
        "id": "kTbamc5CLVL_"
      },
      "source": [
        "метод симпсона"
      ]
    },
    {
      "cell_type": "code",
      "metadata": {
        "colab": {
          "base_uri": "https://localhost:8080/"
        },
        "id": "sl2lA7RFLGFN",
        "outputId": "f0ef2ed2-a193-4f4a-d7a9-60497350b05e"
      },
      "source": [
        "h = 0.25\n",
        "\n",
        "I = 0.\n",
        "for i in range(round(n / 2)):\n",
        "    I += h / 3 * ( y[2*i] + 4 * y[2*i + 1] + y[2*i + 2])\n",
        "\n",
        "print(round(I, 6)) "
      ],
      "execution_count": 32,
      "outputs": [
        {
          "output_type": "stream",
          "name": "stdout",
          "text": [
            "1.576014\n"
          ]
        }
      ]
    },
    {
      "cell_type": "markdown",
      "metadata": {
        "id": "HamCqSgdMCb6"
      },
      "source": [
        "#9.10 б"
      ]
    },
    {
      "cell_type": "markdown",
      "metadata": {
        "id": "VoEu7-b5MMt5"
      },
      "source": [
        "$ \\int_0^1 \\dfrac{\\cos x}{\\sqrt{x}} d x  = \\int_0^1 2 \\cos(t^2) d t$\n"
      ]
    },
    {
      "cell_type": "markdown",
      "metadata": {
        "id": "HY2tRA9zp7kE"
      },
      "source": [
        "посчитала в тетрадке нужный шаг для метода трапеций"
      ]
    },
    {
      "cell_type": "code",
      "metadata": {
        "colab": {
          "base_uri": "https://localhost:8080/"
        },
        "id": "uqKWGU8VL1Ry",
        "outputId": "a91ab0e0-a740-4485-a5ad-a2a7c3a58230"
      },
      "source": [
        "\n",
        "def f(x):\n",
        "    return 2*np.cos(x*x)\n",
        "\n",
        "def integ(h):\n",
        "    x0 = np.arange(0, 1, h)\n",
        "\n",
        "    I = 0.\n",
        "\n",
        "    for i in range(0, len(x0)-1):\n",
        "        I += h * (f(x0[i]) + f(x0[i+1]))/2\n",
        "\n",
        "    print(np.round(I,6))\n",
        "    \n",
        "\n",
        "integ(1.25e-2)\n",
        "integ(1.25e-5)"
      ],
      "execution_count": 33,
      "outputs": [
        {
          "output_type": "stream",
          "name": "stdout",
          "text": [
            "1.795238\n",
            "1.809035\n"
          ]
        }
      ]
    },
    {
      "cell_type": "markdown",
      "metadata": {
        "id": "YtPbAq53sAbt"
      },
      "source": [
        "точное значение 1.80905\n",
        "\n",
        "почему-то при теоретически рассчитанном шаге погрешность на 3 порядка больше требуемой"
      ]
    },
    {
      "cell_type": "markdown",
      "metadata": {
        "id": "60FGb4F6uMJw"
      },
      "source": [
        "второй способ: разбить интеграл на два, один из которых оценить, а второй вычислить\n",
        "\n",
        "$I = \\int_0^\\delta + \\int_\\delta^1 $ "
      ]
    },
    {
      "cell_type": "markdown",
      "metadata": {
        "id": "mIJqbDaAuzVW"
      },
      "source": [
        "где $\\delta$ выбирается из условия $\\int_0^\\delta < ɛ /2$"
      ]
    },
    {
      "cell_type": "markdown",
      "metadata": {
        "id": "3-9PJnmrNIu2"
      },
      "source": [
        "# 9.13 a"
      ]
    },
    {
      "cell_type": "markdown",
      "metadata": {
        "id": "BFikrgGiNMRf"
      },
      "source": [
        " \n",
        " $\\int f(x) \\sin ( kx) d x $\n",
        "\n"
      ]
    },
    {
      "cell_type": "code",
      "metadata": {
        "id": "rY8BW6hqNLCQ"
      },
      "source": [
        "k = 50\n",
        "\n",
        "x = np.linspace(0,4,5)\n",
        "f = [0.00000, 0.50000, 0.86603, 1.00000, 0.86603]\n",
        "\n",
        "n = 5"
      ],
      "execution_count": 34,
      "outputs": []
    },
    {
      "cell_type": "markdown",
      "metadata": {
        "id": "Qz4kw0D2O2kh"
      },
      "source": [
        "квадратичный сплайн, 12 коэффициентов\n",
        "\n",
        "8 уравнений на f, непрерывность производной + 3 условия из производной + 1\n"
      ]
    },
    {
      "cell_type": "code",
      "metadata": {
        "id": "NYodel7_PDyO",
        "colab": {
          "base_uri": "https://localhost:8080/"
        },
        "outputId": "c9a39f89-0c79-4d21-a047-9f95217728c6"
      },
      "source": [
        "A = np.zeros((3*(n-1), 3*(n-1)))\n",
        "\n",
        "b = np.zeros(3*(n-1))\n",
        "\n",
        "# ax^2 + bx + c = f_i\n",
        " \n",
        "\n",
        "for i in range(0, n-1):\n",
        "    for j in range(2):\n",
        "        A[2*i+j][3*i] = x[i+j]**2\n",
        "        A[2*i + j][3*i + 1] = x[i+j]\n",
        "        A[2*i + j][3*i + 2] = 1\n",
        "\n",
        "        if j == 0:\n",
        "            b[2*i+j] = f[i]\n",
        "        else:\n",
        "            b[2*i+j] = f[i+1]\n",
        "\n",
        " # для производных 2ax + b\n",
        "\n",
        "for i in range(n-2):\n",
        "    A[2*(n-1) + i][3*i] = 2 * x[i+1]\n",
        "    A[2*(n-1) + i][3*i + 1] = 1\n",
        "\n",
        "    A[2*(n-1) + i][3*(i+1)] = -2 * x[i+1]\n",
        "    A[2*(n-1) + i][3*(i+1) + 1] = -1\n",
        "\n",
        "\n",
        "# ещё одно условие на конце\n",
        "\n",
        "A[3*(n-1) - 1][0] = 1\n",
        "\n",
        "print(A, b)"
      ],
      "execution_count": 35,
      "outputs": [
        {
          "output_type": "stream",
          "name": "stdout",
          "text": [
            "[[ 0.  0.  1.  0.  0.  0.  0.  0.  0.  0.  0.  0.]\n",
            " [ 1.  1.  1.  0.  0.  0.  0.  0.  0.  0.  0.  0.]\n",
            " [ 0.  0.  0.  1.  1.  1.  0.  0.  0.  0.  0.  0.]\n",
            " [ 0.  0.  0.  4.  2.  1.  0.  0.  0.  0.  0.  0.]\n",
            " [ 0.  0.  0.  0.  0.  0.  4.  2.  1.  0.  0.  0.]\n",
            " [ 0.  0.  0.  0.  0.  0.  9.  3.  1.  0.  0.  0.]\n",
            " [ 0.  0.  0.  0.  0.  0.  0.  0.  0.  9.  3.  1.]\n",
            " [ 0.  0.  0.  0.  0.  0.  0.  0.  0. 16.  4.  1.]\n",
            " [ 2.  1.  0. -2. -1.  0.  0.  0.  0.  0.  0.  0.]\n",
            " [ 0.  0.  0.  4.  1.  0. -4. -1.  0.  0.  0.  0.]\n",
            " [ 0.  0.  0.  0.  0.  0.  6.  1.  0. -6. -1.  0.]\n",
            " [ 1.  0.  0.  0.  0.  0.  0.  0.  0.  0.  0.  0.]] [0.      0.5     0.5     0.86603 0.86603 1.      1.      0.86603 0.\n",
            " 0.      0.      0.     ]\n"
          ]
        }
      ]
    },
    {
      "cell_type": "code",
      "metadata": {
        "colab": {
          "base_uri": "https://localhost:8080/"
        },
        "id": "_8TWpdb2Nb6p",
        "outputId": "dc166fab-11e5-4f89-d777-e7d47acf939a"
      },
      "source": [
        "par = np.linalg.solve(A, b)\n",
        "par"
      ],
      "execution_count": 36,
      "outputs": [
        {
          "output_type": "execute_result",
          "data": {
            "text/plain": [
              "array([ 0.     ,  0.5    ,  0.     , -0.13397,  0.76794, -0.13397,\n",
              "       -0.09809,  0.62442,  0.00955, -0.16985,  1.05498, -0.63629])"
            ]
          },
          "metadata": {},
          "execution_count": 36
        }
      ]
    },
    {
      "cell_type": "code",
      "metadata": {
        "id": "gudk2EsmO8NU",
        "colab": {
          "base_uri": "https://localhost:8080/",
          "height": 265
        },
        "outputId": "6bdb9ab5-ee05-42ce-a517-7d1c76602cb4"
      },
      "source": [
        "plt.scatter(x, f)\n",
        "\n",
        "for i in range(n-1):\n",
        "    l = np.linspace(x[i], x[i+1], 10)\n",
        "    plt.plot(l, par[3*i]*l**2 + par[3*i+1]*l + par[3*i+2])    \n",
        "\n"
      ],
      "execution_count": 37,
      "outputs": [
        {
          "output_type": "display_data",
          "data": {
            "image/png": "[encoded data removed]",
            "text/plain": [
              "<Figure size 432x288 with 1 Axes>"
            ]
          },
          "metadata": {
            "needs_background": "light"
          }
        }
      ]
    },
    {
      "cell_type": "markdown",
      "metadata": {
        "id": "EGStAfmQ_SxP"
      },
      "source": [
        "ура сплайн\n"
      ]
    },
    {
      "cell_type": "markdown",
      "metadata": {
        "id": "KkyliNGA_4vg"
      },
      "source": [
        "$\\int x \\ sin (kx) d x = \\dfrac{\\sin kx - k x \\cos kx}{k^2}$\n",
        "\n",
        "$\\int x^2 \\sin (kx) = \\dfrac{(2 - k^2 x^2)\\cos kx + 2 k x \\sin kx}{k^3}$\n",
        "\n",
        "$\\int \\sin x = - \\frac{\\cos kx}{k}$"
      ]
    },
    {
      "cell_type": "code",
      "metadata": {
        "colab": {
          "base_uri": "https://localhost:8080/"
        },
        "id": "3zA1Rsfz9yf5",
        "outputId": "d7b7d1e2-d004-4f0a-f8cd-014136fa5b55"
      },
      "source": [
        "I = 0.\n",
        "\n",
        "for i in range(n-1):\n",
        "\n",
        "    I += par[3*i+2]*(- np.cos(k*x[i]) + np.cos(k*x[i+1])) / k\n",
        "\n",
        "    I += par[3*i + 1] /k**2 * ( np.sin(k*x[i]) - np.sin(k*x[i+1]) - k*x[i]*np.cos(k*x[i]) + k*x[i+1]*np.cos(k*x[i+1]))\n",
        "\n",
        "    I += par[3*i] / k**3 * ( 2* np.cos(k*x[i]) - 2* np.cos(k*x[i+1]) \n",
        "                            - k**2*(x[i]**2 * np.cos(k*x[i]) - x[i+1]**2 * np.cos(k*x[i+1]))\n",
        "                              + 2*k*(x[i]*np.sin(k*x[i]) - x[i+1]*np.sin(k*x[i+1]) )          )\n",
        "print(-I)"
      ],
      "execution_count": 38,
      "outputs": [
        {
          "output_type": "stream",
          "name": "stdout",
          "text": [
            "-0.008331200515246967\n"
          ]
        }
      ]
    },
    {
      "cell_type": "markdown",
      "metadata": {
        "id": "N_n-VsmUGPlV"
      },
      "source": [
        "значение из вольфрама для x(6-x)/9 \n",
        "\n",
        "I = -0.0085\n",
        "\n"
      ]
    },
    {
      "cell_type": "code",
      "metadata": {
        "id": "oRqc7uXLER3t"
      },
      "source": [
        ""
      ],
      "execution_count": 38,
      "outputs": []
    }
  ]
}