{
  "nbformat": 4,
  "nbformat_minor": 0,
  "metadata": {
    "colab": {
      "name": "10 theme 7.4.ipynb",
      "provenance": [],
      "authorship_tag": "ABX9TyOGmxJQePbY0Qh/XiU6clqP",
      "include_colab_link": true
    },
    "kernelspec": {
      "name": "python3",
      "display_name": "Python 3"
    },
    "language_info": {
      "name": "python"
    }
  },
  "cells": [
    {
      "cell_type": "markdown",
      "metadata": {
        "id": "view-in-github",
        "colab_type": "text"
      },
      "source": [
        "<a href=\"https://colab.research.google.com/github/mipt-alexa/computational-math-course/blob/main/10_theme_7_4.ipynb\" target=\"_parent\"><img src=\"https://colab.research.google.com/assets/colab-badge.svg\" alt=\"Open In Colab\"/></a>"
      ]
    },
    {
      "cell_type": "code",
      "execution_count": 1,
      "metadata": {
        "id": "nGlyffPU3pqC"
      },
      "outputs": [],
      "source": [
        "import numpy as np\n",
        "import matplotlib.pyplot as plt"
      ]
    },
    {
      "cell_type": "code",
      "source": [
        "c = 4\n"
      ],
      "metadata": {
        "id": "CJiSsvb6-J0O"
      },
      "execution_count": 42,
      "outputs": []
    },
    {
      "cell_type": "code",
      "source": [
        "def f1(x):\n",
        "    return 1 + x"
      ],
      "metadata": {
        "id": "jMEKBrqDAGoJ"
      },
      "execution_count": 61,
      "outputs": []
    },
    {
      "cell_type": "code",
      "source": [
        "def exp(n , x):\n",
        "    res = 1\n",
        "    for i in range(n):\n",
        "        res += np.power(x, i+1)\n",
        "    return res"
      ],
      "metadata": {
        "id": "AOGvcBpEAbxs"
      },
      "execution_count": 64,
      "outputs": []
    },
    {
      "cell_type": "code",
      "source": [
        "def solve_ineq(n, c=4, num_points=200):\n",
        "\n",
        "    x = np.linspace(-c, c,  num_points)\n",
        "    y = np.linspace(-c, c, num_points)\n",
        "\n",
        "    X = np.array([])\n",
        "    Y = X\n",
        "\n",
        "    for x_i in x:\n",
        "        for y_i in y:\n",
        "            z = complex(x_i, y_i)\n",
        "            if abs(exp(n, z)) < 1:\n",
        "                X = np.append(X, x_i)\n",
        "                Y = np.append(Y, y_i)\n",
        "    \n",
        "    Limits = [[-c, c],[-c, c]]\n",
        "\n",
        "    plt.figure(figsize=(6, 6))\n",
        "    plt.scatter(X, Y)\n",
        "    plt.xlim(Limits[0])\n",
        "    plt.ylim(Limits[1])\n",
        "    plt.grid()"
      ],
      "metadata": {
        "id": "SDOk0eKm39iN"
      },
      "execution_count": 83,
      "outputs": []
    },
    {
      "cell_type": "code",
      "source": [
        "solve_ineq(3, 2, 500)"
      ],
      "metadata": {
        "colab": {
          "base_uri": "https://localhost:8080/",
          "height": 378
        },
        "id": "96Xm1ana-77N",
        "outputId": "69dd08c6-81ef-4f41-f512-2a975ae5d7bb"
      },
      "execution_count": 85,
      "outputs": [
        {
          "output_type": "display_data",
          "data": {
            "text/plain": [
              "<Figure size 432x432 with 1 Axes>"
            ],
            "image/png": "[encoded data removed]"
          },
          "metadata": {
            "needs_background": "light"
          }
        }
      ]
    },
    {
      "cell_type": "code",
      "source": [
        "solve_ineq(20, 2, 400)"
      ],
      "metadata": {
        "colab": {
          "base_uri": "https://localhost:8080/",
          "height": 378
        },
        "id": "2EnOT2lgDJA_",
        "outputId": "137065c5-968b-41b1-d30e-eb2eaf15e23b"
      },
      "execution_count": 86,
      "outputs": [
        {
          "output_type": "display_data",
          "data": {
            "text/plain": [
              "<Figure size 432x432 with 1 Axes>"
            ],
            "image/png": "[encoded data removed]"
          },
          "metadata": {
            "needs_background": "light"
          }
        }
      ]
    },
    {
      "cell_type": "code",
      "source": [
        ""
      ],
      "metadata": {
        "id": "3W7z1bw2DKAn"
      },
      "execution_count": null,
      "outputs": []
    }
  ]
}
